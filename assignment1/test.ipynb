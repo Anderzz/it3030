{
 "cells": [
  {
   "cell_type": "code",
   "execution_count": 125,
   "metadata": {},
   "outputs": [],
   "source": [
    "import numpy as np\n",
    "from doodler import *\n",
    "import matplotlib.pyplot as plt\n",
    "from network import *\n",
    "from dense import Dense\n",
    "from activation import Activation\n",
    "from loss import *\n",
    "from activation_functions import *\n",
    "from keras.datasets import mnist\n",
    "from keras.utils import np_utils\n"
   ]
  },
  {
   "cell_type": "code",
   "execution_count": 126,
   "metadata": {},
   "outputs": [
    {
     "data": {
      "image/png": "[encoded data removed]",
      "text/plain": [
       "<Figure size 432x288 with 1 Axes>"
      ]
     },
     "metadata": {
      "needs_background": "light"
     },
     "output_type": "display_data"
    },
    {
     "data": {
      "image/png": "[encoded data removed]",
      "text/plain": [
       "<Figure size 432x288 with 1 Axes>"
      ]
     },
     "metadata": {
      "needs_background": "light"
     },
     "output_type": "display_data"
    },
    {
     "data": {
      "image/png": "[encoded data removed]",
      "text/plain": [
       "<Figure size 432x288 with 1 Axes>"
      ]
     },
     "metadata": {
      "needs_background": "light"
     },
     "output_type": "display_data"
    }
   ],
   "source": [
    "#doodler = Doodler()\n",
    "im = gen_standard_cases(count=3, types=['ball', 'frame', 'triangle'])"
   ]
  },
  {
   "cell_type": "code",
   "execution_count": 127,
   "metadata": {},
   "outputs": [
    {
     "name": "stdout",
     "output_type": "stream",
     "text": [
      "{'loss': 'cross_entropy', 'lr': '0.1', 'wlambda': '0.001', 'wrt': 'l2'}\n",
      "[('dense', {'in': '784', 'out': '200', 'wr': '(0.1,0.1)', 'wrt': 'l2', 'br': '(0.2,0.2)', 'lr': '0.01'}), ('sigmoid', {}), ('dense', {'in': '200', 'out': '20', 'lr': '0.5'}), ('softmax', {})]\n"
     ]
    }
   ],
   "source": [
    "def parse_file(filepath):\n",
    "    import re\n",
    "    with open(filepath, 'r') as f:\n",
    "        data = f.read()\n",
    "\n",
    "    defaults = {}\n",
    "    layers = []\n",
    "\n",
    "    # extract defaults\n",
    "    defaults_match = re.search(r'DEFAULTS\\n(.*?)\\nDEFAULTS', data, re.DOTALL)\n",
    "    if defaults_match:\n",
    "        defaults_data = defaults_match.group(1)\n",
    "        defaults_lines = defaults_data.strip().split('\\n')\n",
    "        for line in defaults_lines:\n",
    "            key, value = line.split(':')\n",
    "            defaults[key] = value\n",
    "\n",
    "    # extract layers\n",
    "    layers_match = re.search(r'LAYERS\\n(.*?)\\nLAYERS', data, re.DOTALL)\n",
    "    if layers_match:\n",
    "        layers_data = layers_match.group(1)\n",
    "        layers_lines = layers_data.strip().split('\\n')\n",
    "        for line in layers_lines:\n",
    "            parts = line.split()\n",
    "            layer_type = parts[0]\n",
    "            layer_data = {}\n",
    "            for part in parts[1:]:\n",
    "                key, value = part.split(':')\n",
    "                layer_data[key] = value\n",
    "            layers.append((layer_type, layer_data))\n",
    "\n",
    "    return defaults, layers\n",
    "\n",
    "defaults, layers = parse_file('network1.txt')\n",
    "print(defaults)\n",
    "print(layers)"
   ]
  },
  {
   "cell_type": "code",
   "execution_count": 130,
   "metadata": {},
   "outputs": [
    {
     "name": "stdout",
     "output_type": "stream",
     "text": [
      "<class 'str'>\n",
      "None\n",
      "<class 'float'>\n"
     ]
    },
    {
     "ename": "TypeError",
     "evalue": "'str' object cannot be interpreted as an integer",
     "output_type": "error",
     "traceback": [
      "\u001b[1;31m---------------------------------------------------------------------------\u001b[0m",
      "\u001b[1;31mTypeError\u001b[0m                                 Traceback (most recent call last)",
      "\u001b[1;32m~\\AppData\\Local\\Temp/ipykernel_7544/2336255657.py\u001b[0m in \u001b[0;36m<module>\u001b[1;34m\u001b[0m\n\u001b[0;32m     27\u001b[0m             \u001b[0mlr\u001b[0m \u001b[1;33m=\u001b[0m \u001b[0mfloat\u001b[0m\u001b[1;33m(\u001b[0m\u001b[0mlayer\u001b[0m\u001b[1;33m[\u001b[0m\u001b[1;36m1\u001b[0m\u001b[1;33m]\u001b[0m\u001b[1;33m[\u001b[0m\u001b[1;34m'lr'\u001b[0m\u001b[1;33m]\u001b[0m\u001b[1;33m)\u001b[0m\u001b[1;33m\u001b[0m\u001b[1;33m\u001b[0m\u001b[0m\n\u001b[0;32m     28\u001b[0m             \u001b[0mprint\u001b[0m\u001b[1;33m(\u001b[0m\u001b[0mtype\u001b[0m\u001b[1;33m(\u001b[0m\u001b[0mlr\u001b[0m\u001b[1;33m)\u001b[0m\u001b[1;33m)\u001b[0m\u001b[1;33m\u001b[0m\u001b[1;33m\u001b[0m\u001b[0m\n\u001b[1;32m---> 29\u001b[1;33m         \u001b[0mnetwork\u001b[0m\u001b[1;33m.\u001b[0m\u001b[0mappend\u001b[0m\u001b[1;33m(\u001b[0m\u001b[0mDense\u001b[0m\u001b[1;33m(\u001b[0m\u001b[0min_dim\u001b[0m\u001b[1;33m,\u001b[0m \u001b[0mout_dim\u001b[0m\u001b[1;33m,\u001b[0m \u001b[0mwr\u001b[0m\u001b[1;33m=\u001b[0m\u001b[0mwr\u001b[0m\u001b[1;33m,\u001b[0m \u001b[0mbr\u001b[0m\u001b[1;33m=\u001b[0m\u001b[0mbr\u001b[0m\u001b[1;33m,\u001b[0m \u001b[0mregularization\u001b[0m\u001b[1;33m=\u001b[0m\u001b[0mdefault_wrt\u001b[0m\u001b[1;33m,\u001b[0m \u001b[0mreg_lambda\u001b[0m\u001b[1;33m=\u001b[0m\u001b[0mdefault_wlambda\u001b[0m\u001b[1;33m,\u001b[0m \u001b[0mlr\u001b[0m\u001b[1;33m=\u001b[0m\u001b[0mlr\u001b[0m\u001b[1;33m)\u001b[0m\u001b[1;33m)\u001b[0m\u001b[1;33m\u001b[0m\u001b[1;33m\u001b[0m\u001b[0m\n\u001b[0m\u001b[0;32m     30\u001b[0m \u001b[1;33m\u001b[0m\u001b[0m\n",
      "\u001b[1;32mc:\\ntnu\\dl\\assignment1\\dense.py\u001b[0m in \u001b[0;36m__init__\u001b[1;34m(self, input_size, output_size, regularization, reg_lambda, lr, wr, br)\u001b[0m\n\u001b[0;32m      9\u001b[0m         \u001b[1;31m# if a weight range is not specified, use glorot initialization\u001b[0m\u001b[1;33m\u001b[0m\u001b[1;33m\u001b[0m\u001b[0m\n\u001b[0;32m     10\u001b[0m         \u001b[1;32mif\u001b[0m \u001b[0mwr\u001b[0m \u001b[1;32mis\u001b[0m \u001b[1;32mNone\u001b[0m\u001b[1;33m:\u001b[0m\u001b[1;33m\u001b[0m\u001b[1;33m\u001b[0m\u001b[0m\n\u001b[1;32m---> 11\u001b[1;33m             \u001b[0mself\u001b[0m\u001b[1;33m.\u001b[0m\u001b[0mw\u001b[0m \u001b[1;33m=\u001b[0m \u001b[0mnp\u001b[0m\u001b[1;33m.\u001b[0m\u001b[0mrandom\u001b[0m\u001b[1;33m.\u001b[0m\u001b[0mrandn\u001b[0m\u001b[1;33m(\u001b[0m\u001b[0moutput_size\u001b[0m\u001b[1;33m,\u001b[0m \u001b[0minput_size\u001b[0m\u001b[1;33m)\u001b[0m \u001b[1;33m/\u001b[0m \u001b[0mnp\u001b[0m\u001b[1;33m.\u001b[0m\u001b[0msqrt\u001b[0m\u001b[1;33m(\u001b[0m\u001b[0minput_size\u001b[0m\u001b[1;33m)\u001b[0m\u001b[1;33m\u001b[0m\u001b[1;33m\u001b[0m\u001b[0m\n\u001b[0m\u001b[0;32m     12\u001b[0m         \u001b[1;32melse\u001b[0m\u001b[1;33m:\u001b[0m\u001b[1;33m\u001b[0m\u001b[1;33m\u001b[0m\u001b[0m\n\u001b[0;32m     13\u001b[0m             \u001b[0mself\u001b[0m\u001b[1;33m.\u001b[0m\u001b[0mw\u001b[0m \u001b[1;33m=\u001b[0m \u001b[0mnp\u001b[0m\u001b[1;33m.\u001b[0m\u001b[0mrandom\u001b[0m\u001b[1;33m.\u001b[0m\u001b[0muniform\u001b[0m\u001b[1;33m(\u001b[0m\u001b[0mwr\u001b[0m\u001b[1;33m[\u001b[0m\u001b[1;36m0\u001b[0m\u001b[1;33m]\u001b[0m\u001b[1;33m,\u001b[0m \u001b[0mwr\u001b[0m\u001b[1;33m[\u001b[0m\u001b[1;36m1\u001b[0m\u001b[1;33m]\u001b[0m\u001b[1;33m,\u001b[0m \u001b[1;33m(\u001b[0m\u001b[0moutput_size\u001b[0m\u001b[1;33m,\u001b[0m \u001b[0minput_size\u001b[0m\u001b[1;33m)\u001b[0m\u001b[1;33m)\u001b[0m\u001b[1;33m\u001b[0m\u001b[1;33m\u001b[0m\u001b[0m\n",
      "\u001b[1;32mmtrand.pyx\u001b[0m in \u001b[0;36mnumpy.random.mtrand.RandomState.randn\u001b[1;34m()\u001b[0m\n",
      "\u001b[1;32mmtrand.pyx\u001b[0m in \u001b[0;36mnumpy.random.mtrand.RandomState.standard_normal\u001b[1;34m()\u001b[0m\n",
      "\u001b[1;32m_common.pyx\u001b[0m in \u001b[0;36mnumpy.random._common.cont\u001b[1;34m()\u001b[0m\n",
      "\u001b[1;31mTypeError\u001b[0m: 'str' object cannot be interpreted as an integer"
     ]
    }
   ],
   "source": [
    "import ast\n",
    "default_loss = defaults['loss']\n",
    "default_lr = float(defaults['lr'])\n",
    "default_wlambda = float(defaults['wlambda'])\n",
    "default_wrt = defaults['wrt']\n",
    "\n",
    "network = []\n",
    "wr = None\n",
    "br = None\n",
    "\n",
    "\n",
    "for layer in layers:\n",
    "    if layer[0].lower().capitalize() == 'Dense':\n",
    "        values = list(layer[1].values())\n",
    "        keys = list(layer[1].keys())\n",
    "        in_dim = int(values[0])\n",
    "        out_dim = int(values[1])\n",
    "        if 'wr' in keys:\n",
    "            wr = type(ast.literal_eval(layer[1]['wr'][0]))\n",
    "            wr = tuple(map(float, wr))\n",
    "            print(wr)\n",
    "        if 'br' in keys:\n",
    "            br = ast.literal_eval(layer[1]['br'])\n",
    "            br = tuple(map(float, br))\n",
    "        if 'wrt' in keys:\n",
    "            wrt = layer[1]['wrt']\n",
    "        if 'lr' in keys:\n",
    "            lr = float(layer[1]['lr'])\n",
    "            print(type(lr))\n",
    "        network.append(Dense(in_dim, out_dim, wr=wr, br=br, regularization=default_wrt, reg_lambda=default_wlambda, lr=lr))\n",
    "        "
   ]
  },
  {
   "cell_type": "code",
   "execution_count": null,
   "metadata": {},
   "outputs": [
    {
     "data": {
      "text/plain": [
       "['784', '200', '(0.1,0.1)', 'l2', '(0.2,0.2)', '0.01']"
      ]
     },
     "execution_count": 92,
     "metadata": {},
     "output_type": "execute_result"
    }
   ],
   "source": [
    "list(layers[0][1].values())"
   ]
  },
  {
   "cell_type": "code",
   "execution_count": null,
   "metadata": {},
   "outputs": [],
   "source": []
  }
 ],
 "metadata": {
  "kernelspec": {
   "display_name": "Python 3",
   "language": "python",
   "name": "python3"
  },
  "language_info": {
   "codemirror_mode": {
    "name": "ipython",
    "version": 3
   },
   "file_extension": ".py",
   "mimetype": "text/x-python",
   "name": "python",
   "nbconvert_exporter": "python",
   "pygments_lexer": "ipython3",
   "version": "3.9.7"
  },
  "orig_nbformat": 4,
  "vscode": {
   "interpreter": {
    "hash": "81794d4967e6c3204c66dcd87b604927b115b27c00565d3d43f05ba2f3a2cb0d"
   }
  }
 },
 "nbformat": 4,
 "nbformat_minor": 2
}
