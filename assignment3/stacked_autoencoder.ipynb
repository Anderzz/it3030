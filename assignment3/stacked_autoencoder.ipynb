{
 "cells": [
  {
   "cell_type": "code",
   "execution_count": 1,
   "metadata": {},
   "outputs": [],
   "source": [
    "from stacked_mnist import *\n",
    "from verification_net import VerificationNet\n",
    "import matplotlib.pyplot as plt\n",
    "import torch\n",
    "import torch.nn as nn\n",
    "from torch.utils.data import DataLoader, Dataset\n",
    "import torch.optim as optim\n",
    "from autoencoder import Autoencoder\n",
    "from util import *"
   ]
  },
  {
   "cell_type": "code",
   "execution_count": 2,
   "metadata": {},
   "outputs": [],
   "source": [
    "# GLOBALS\n",
    "BATCH_SIZE = 1024\n",
    "EPOCHS = 15\n",
    "NUM_CHANNELS = 1\n"
   ]
  },
  {
   "cell_type": "code",
   "execution_count": 3,
   "metadata": {},
   "outputs": [],
   "source": [
    "data = StackedMNISTData(mode=DataMode.COLOR_BINARY_COMPLETE)\n",
    "\n",
    "train_dataset = data.get_full_data_set(training=True)\n",
    "test_dataset = data.get_full_data_set(training=False)"
   ]
  },
  {
   "cell_type": "code",
   "execution_count": 4,
   "metadata": {},
   "outputs": [],
   "source": [
    "class StackedMnistDataset(Dataset):\n",
    "    def __init__(self, data):\n",
    "        self.X = torch.from_numpy(data[0]).float()\n",
    "        self.y = torch.from_numpy(data[1]).float()\n",
    "        # turn them into long tensors\n",
    "        self.y = self.y.long()\n",
    "        \n",
    "\n",
    "    def __len__(self):\n",
    "        return len(self.X)\n",
    "\n",
    "    def __getitem__(self, idx):\n",
    "        return self.X[idx], self.y[idx]"
   ]
  },
  {
   "cell_type": "code",
   "execution_count": 5,
   "metadata": {},
   "outputs": [],
   "source": [
    "stacked_mnist_train = StackedMnistDataset(train_dataset)\n",
    "stacked_mnist_test = StackedMnistDataset(test_dataset)\n",
    "\n",
    "train_loader = DataLoader(stacked_mnist_train, batch_size=BATCH_SIZE, shuffle=True)\n",
    "test_loader = DataLoader(stacked_mnist_test, batch_size=BATCH_SIZE, shuffle=False)"
   ]
  },
  {
   "cell_type": "code",
   "execution_count": 6,
   "metadata": {},
   "outputs": [
    {
     "name": "stdout",
     "output_type": "stream",
     "text": [
      "torch.Size([1024, 28, 28, 3])\n",
      "torch.Size([1024])\n"
     ]
    }
   ],
   "source": [
    "for x, y in train_loader:\n",
    "    # reshape to (batch_size, num_channels, height, width)\n",
    "    #x = x.reshape(-1, 3, 28, 28)\n",
    "    print(x.shape)\n",
    "    print(y.shape)\n",
    "    break"
   ]
  },
  {
   "cell_type": "code",
   "execution_count": 7,
   "metadata": {},
   "outputs": [
    {
     "data": {
      "text/plain": [
       "<matplotlib.image.AxesImage at 0x7fa50eaa2d30>"
      ]
     },
     "execution_count": 7,
     "metadata": {},
     "output_type": "execute_result"
    },
    {
     "data": {
      "image/png": "[encoded data removed]",
      "text/plain": [
       "<Figure size 432x288 with 1 Axes>"
      ]
     },
     "metadata": {
      "needs_background": "light"
     },
     "output_type": "display_data"
    }
   ],
   "source": [
    "#plt.imshow(next(iter(train_loader))[0][3])\n",
    "plt.imshow(next(iter(train_loader))[0][0])"
   ]
  },
  {
   "cell_type": "code",
   "execution_count": null,
   "metadata": {},
   "outputs": [],
   "source": [
    "device = (\"cuda\" if torch.cuda.is_available() else \"cpu\")\n",
    "print(f\"device: {device}\")\n",
    "model = Autoencoder\n",
    "criterion = nn.BCELoss()\n",
    "# criterion = nn.MSELoss()\n",
    "optimizer = optim.Adam(model.parameters(), lr=1e-3, weight_decay=1e-5)\n",
    "\n",
    "model.to(device)"
   ]
  },
  {
   "cell_type": "code",
   "execution_count": null,
   "metadata": {},
   "outputs": [],
   "source": [
    "def train(epochs=EPOCHS, force_retrain=False):\n",
    "\n",
    "    # try to load the model if it exists and force_retrain is False\n",
    "    if not force_retrain:\n",
    "        try:\n",
    "            checkpoint = torch.load(\"./models/stacked_gen_autoencoder.pth\")\n",
    "            model.load_state_dict(checkpoint[\"model_state_dict\"])\n",
    "            optimizer.load_state_dict(checkpoint[\"optimizer_state_dict\"])\n",
    "            start_epoch = checkpoint[\"epoch\"] + 1\n",
    "            print(\"Loaded checkpoint from epoch\", start_epoch)\n",
    "        except:\n",
    "            start_epoch = 0\n",
    "            print(\"Starting from scratch\")\n",
    "    else:\n",
    "        start_epoch = 0\n",
    "        print(\"Starting from scratch (forced retrain)\")\n",
    "\n",
    "    # train the model\n",
    "    outputs = []\n",
    "    model.train()\n",
    "    for epoch in range(start_epoch, epochs):\n",
    "        for im, _ in train_loader:\n",
    "            num_channels = im.shape[-1]\n",
    "            im = im.reshape(-1, num_channels, 28, 28)\n",
    "            im = im.to(device)\n",
    "            # ===================forward=====================\n",
    "            output = model(im)\n",
    "            output = output.squeeze().reshape(-1, num_channels, 28, 28)\n",
    "            loss = criterion(output, im)\n",
    "            # ===================backward====================\n",
    "            optimizer.zero_grad()\n",
    "            loss.backward()\n",
    "            optimizer.step()\n",
    "        # ===================log========================\n",
    "        print('epoch [{}/{}], loss:{:.4f}'.format(epoch + 1, EPOCHS, loss.item()))\n",
    "        outputs.append((epoch, im, output))\n",
    "\n",
    "    # save the model\n",
    "    checkpoint = {\n",
    "        \"epoch\": epoch,\n",
    "        \"model_state_dict\": model.state_dict(),\n",
    "        \"optimizer_state_dict\": optimizer.state_dict(),\n",
    "    }\n",
    "    torch.save(checkpoint, \"./models/stacked_gen_autoencoder.pth\")\n",
    "\n",
    "    return outputs"
   ]
  },
  {
   "cell_type": "code",
   "execution_count": null,
   "metadata": {},
   "outputs": [],
   "source": [
    "EPOCHS = 30\n",
    "train_outputs = train(epochs=EPOCHS, force_retrain=True)"
   ]
  },
  {
   "cell_type": "code",
   "execution_count": null,
   "metadata": {},
   "outputs": [],
   "source": [
    "#plt.imshow(train_outputs[0][1][3].reshape(28, 28, 3).detach().cpu().numpy())\n",
    "imgs = train_outputs[0][1].reshape(-1, 28, 28, 3).detach().cpu().numpy()\n",
    "recon = train_outputs[80][2].reshape(-1, 28, 28, 3).detach().cpu().numpy()\n",
    "# plot them in a subplot\n",
    "fig, axs = plt.subplots(2, 10, figsize=(20, 4))\n",
    "for i in range(10):\n",
    "    axs[0, i].imshow(imgs[i])\n",
    "    axs[1, i].imshow(recon[i])"
   ]
  },
  {
   "cell_type": "code",
   "execution_count": null,
   "metadata": {},
   "outputs": [],
   "source": [
    "if train_outputs:\n",
    "    # ensure 10 iterations\n",
    "    desired_iterations = 10\n",
    "    num_train_outputs = len(train_outputs)\n",
    "    step = max(num_train_outputs // desired_iterations, 1)\n",
    "    \n",
    "    for k in range(0, EPOCHS, step):\n",
    "        plt.figure(figsize=(9, 2))\n",
    "        plt.gray()\n",
    "\n",
    "        imgs = train_outputs[k][1].reshape(-1, 28, 28, 3).detach().cpu().numpy()\n",
    "        recon = train_outputs[k][2].reshape(-1, 28, 28, 3).detach().cpu().numpy()\n",
    "\n",
    "        for i, item in enumerate(imgs):\n",
    "            if i >= 9:\n",
    "                break\n",
    "            plt.subplot(2, 9, i + 1)\n",
    "            plt.imshow(item[0])\n",
    "\n",
    "        for i, item in enumerate(recon):\n",
    "            if i >= 9:\n",
    "                break\n",
    "            plt.subplot(2, 9, 9 + i + 1)\n",
    "            plt.imshow(item[0])\n",
    "\n",
    "        plt.suptitle(f\"Epoch {k}\")\n",
    "        break"
   ]
  },
  {
   "cell_type": "code",
   "execution_count": null,
   "metadata": {},
   "outputs": [],
   "source": [
    "if train_outputs:\n",
    "    for k in range(0, EPOCHS, 4):\n",
    "        plt.figure(figsize=(9, 2))\n",
    "        #plt.gray()\n",
    "\n",
    "        imgs = train_outputs[k][1].reshape(-1, 28, 28, 3).detach().cpu().numpy()\n",
    "        print(imgs.shape)\n",
    "        recon = train_outputs[k][2].reshape(-1, 28, 28, 3).detach().cpu().numpy()\n",
    "\n",
    "        for i, item in enumerate(imgs):\n",
    "            if i >= 9:\n",
    "                break\n",
    "            plt.subplot(2, 9, i + 1)\n",
    "            plt.imshow(item[0])\n",
    "\n",
    "        for i, item in enumerate(recon):\n",
    "            if i >= 9:\n",
    "                break\n",
    "            plt.subplot(2, 9, 9 + i + 1)\n",
    "            plt.imshow(item[0])"
   ]
  },
  {
   "cell_type": "code",
   "execution_count": null,
   "metadata": {},
   "outputs": [],
   "source": [
    "# run the model on the test set\n",
    "test_outputs, test_labels = generate_test_images(model, test_loader, device)"
   ]
  },
  {
   "cell_type": "code",
   "execution_count": null,
   "metadata": {},
   "outputs": [],
   "source": [
    "k = 4\n",
    "print(test_labels[k])\n",
    "plt.imshow(test_outputs[k])"
   ]
  },
  {
   "cell_type": "code",
   "execution_count": null,
   "metadata": {},
   "outputs": [],
   "source": [
    "verification_net = VerificationNet()"
   ]
  },
  {
   "cell_type": "code",
   "execution_count": null,
   "metadata": {},
   "outputs": [],
   "source": [
    "predictability, accuracy = verification_net.check_predictability(test_outputs, test_labels, tolerance=0.5)\n",
    "coverage = verification_net.check_class_coverage(test_outputs, tolerance=0.5)\n",
    "print(f\"Predictability: {predictability} \\nAccuracy: {accuracy} \\nCoverage: {coverage}\")"
   ]
  },
  {
   "cell_type": "code",
   "execution_count": null,
   "metadata": {},
   "outputs": [],
   "source": [
    "# decoder = model.decoder\n",
    "# num_samples = 36\n",
    "# z = np.random.rand(num_samples, 16)\n",
    "\n",
    "# generative_out = decoder(torch.from_numpy(z).float().to(device)).reshape(-1, 28, 28, 1).detach().cpu().numpy()\n",
    "# generative_out_tile = generative_out.squeeze()\n",
    "# tiled_image = tile_images(generative_out_tile, show=True)\n",
    "\n",
    "# generative_predictability, generative_accuracy = verification_net.check_predictability(generative_out, tolerance=0.8)\n",
    "# generative_coverage = verification_net.check_class_coverage(generative_out, tolerance=0.8)\n",
    "# print(f\"Predictability: {generative_predictability} \\nAccuracy: {generative_accuracy} \\nCoverage: {generative_coverage}\")"
   ]
  }
 ],
 "metadata": {
  "kernelspec": {
   "display_name": "Python 3",
   "language": "python",
   "name": "python3"
  },
  "language_info": {
   "codemirror_mode": {
    "name": "ipython",
    "version": 3
   },
   "file_extension": ".py",
   "mimetype": "text/x-python",
   "name": "python",
   "nbconvert_exporter": "python",
   "pygments_lexer": "ipython3",
   "version": "3.8.10"
  },
  "orig_nbformat": 4,
  "vscode": {
   "interpreter": {
    "hash": "767d51c1340bd893661ea55ea3124f6de3c7a262a8b4abca0554b478b1e2ff90"
   }
  }
 },
 "nbformat": 4,
 "nbformat_minor": 2
}
