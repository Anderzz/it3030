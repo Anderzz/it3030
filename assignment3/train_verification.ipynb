{
 "cells": [
  {
   "cell_type": "code",
   "execution_count": 1,
   "metadata": {},
   "outputs": [],
   "source": [
    "from verification_net import VerificationNet\n",
    "from stacked_mnist import StackedMNISTData, DataMode"
   ]
  },
  {
   "cell_type": "code",
   "execution_count": 2,
   "metadata": {},
   "outputs": [],
   "source": [
    "data = StackedMNISTData(mode=DataMode.MONO_BINARY_COMPLETE)\n",
    "train_dataset = data.get_full_data_set(training=True)\n",
    "test_dataset = data.get_full_data_set(training=False)"
   ]
  },
  {
   "cell_type": "code",
   "execution_count": 4,
   "metadata": {},
   "outputs": [
    {
     "name": "stdout",
     "output_type": "stream",
     "text": [
      "Could not read weights for verification_net from file. Must retrain...\n",
      "Could not read weights for verification_net from file. Must retrain...\n",
      "Epoch 1/10\n"
     ]
    },
    {
     "name": "stderr",
     "output_type": "stream",
     "text": [
      "c:\\Python39\\lib\\site-packages\\keras\\optimizer_v2\\adam.py:105: UserWarning: The `lr` argument is deprecated, use `learning_rate` instead.\n",
      "  super(Adam, self).__init__(name, **kwargs)\n"
     ]
    },
    {
     "name": "stdout",
     "output_type": "stream",
     "text": [
      "59/59 [==============================] - 45s 741ms/step - loss: 0.8470 - accuracy: 0.7071 - val_loss: 0.1048 - val_accuracy: 0.9683\n",
      "Epoch 2/10\n",
      "59/59 [==============================] - 42s 706ms/step - loss: 0.2014 - accuracy: 0.9421 - val_loss: 0.0737 - val_accuracy: 0.9775\n",
      "Epoch 3/10\n",
      "59/59 [==============================] - 41s 687ms/step - loss: 0.1597 - accuracy: 0.9551 - val_loss: 0.0578 - val_accuracy: 0.9838\n",
      "Epoch 4/10\n",
      "59/59 [==============================] - 42s 721ms/step - loss: 0.1341 - accuracy: 0.9621 - val_loss: 0.0510 - val_accuracy: 0.9854\n",
      "Epoch 5/10\n",
      "59/59 [==============================] - 43s 727ms/step - loss: 0.1259 - accuracy: 0.9659 - val_loss: 0.0469 - val_accuracy: 0.9863\n",
      "Epoch 6/10\n",
      "59/59 [==============================] - 42s 719ms/step - loss: 0.1126 - accuracy: 0.9687 - val_loss: 0.0427 - val_accuracy: 0.9878\n",
      "Epoch 7/10\n",
      "59/59 [==============================] - 46s 782ms/step - loss: 0.1091 - accuracy: 0.9705 - val_loss: 0.0400 - val_accuracy: 0.9891\n",
      "Epoch 8/10\n",
      "59/59 [==============================] - 42s 705ms/step - loss: 0.1068 - accuracy: 0.9700 - val_loss: 0.0452 - val_accuracy: 0.9859\n",
      "Epoch 9/10\n",
      "59/59 [==============================] - 42s 713ms/step - loss: 0.1011 - accuracy: 0.9722 - val_loss: 0.0369 - val_accuracy: 0.9894\n",
      "Epoch 10/10\n",
      "59/59 [==============================] - 40s 669ms/step - loss: 0.0932 - accuracy: 0.9743 - val_loss: 0.0357 - val_accuracy: 0.9897\n"
     ]
    },
    {
     "data": {
      "text/plain": [
       "True"
      ]
     },
     "execution_count": 4,
     "metadata": {},
     "output_type": "execute_result"
    }
   ],
   "source": [
    "net = VerificationNet()\n",
    "\n",
    "net.train(data, epochs=10)"
   ]
  },
  {
   "cell_type": "code",
   "execution_count": 10,
   "metadata": {},
   "outputs": [
    {
     "data": {
      "text/plain": [
       "(0.9834, 0.979)"
      ]
     },
     "execution_count": 10,
     "metadata": {},
     "output_type": "execute_result"
    }
   ],
   "source": [
    "net."
   ]
  },
  {
   "cell_type": "code",
   "execution_count": null,
   "metadata": {},
   "outputs": [],
   "source": [
    "    "
   ]
  }
 ],
 "metadata": {
  "kernelspec": {
   "display_name": "Python 3",
   "language": "python",
   "name": "python3"
  },
  "language_info": {
   "codemirror_mode": {
    "name": "ipython",
    "version": 3
   },
   "file_extension": ".py",
   "mimetype": "text/x-python",
   "name": "python",
   "nbconvert_exporter": "python",
   "pygments_lexer": "ipython3",
   "version": "3.9.7"
  },
  "orig_nbformat": 4,
  "vscode": {
   "interpreter": {
    "hash": "81794d4967e6c3204c66dcd87b604927b115b27c00565d3d43f05ba2f3a2cb0d"
   }
  }
 },
 "nbformat": 4,
 "nbformat_minor": 2
}
