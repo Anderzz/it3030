{
 "cells": [
  {
   "cell_type": "code",
   "execution_count": 1,
   "metadata": {},
   "outputs": [],
   "source": [
    "from stacked_mnist import *\n",
    "from verification_net import VerificationNet\n",
    "import matplotlib.pyplot as plt\n",
    "import torch\n",
    "import torch.nn as nn\n",
    "from torch.utils.data import DataLoader, Dataset\n",
    "import torch.optim as optim\n",
    "from autoencoder import Autoencoder\n",
    "from util import *"
   ]
  },
  {
   "cell_type": "code",
   "execution_count": 2,
   "metadata": {},
   "outputs": [],
   "source": [
    "# GLOBALS\n",
    "BATCH_SIZE = 1024\n",
    "EPOCHS = 15\n",
    "NUM_CHANNELS = 1"
   ]
  },
  {
   "cell_type": "code",
   "execution_count": 3,
   "metadata": {},
   "outputs": [],
   "source": [
    "data = StackedMNISTData(mode=DataMode.MONO_BINARY_COMPLETE)\n",
    "\n",
    "train_dataset = data.get_full_data_set(training=True)\n",
    "test_dataset = data.get_full_data_set(training=False)"
   ]
  },
  {
   "cell_type": "code",
   "execution_count": 4,
   "metadata": {},
   "outputs": [],
   "source": [
    "class StackedMnistDataset(Dataset):\n",
    "    def __init__(self, data):\n",
    "        self.X = torch.from_numpy(data[0]).float()\n",
    "        self.y = torch.from_numpy(data[1]).float()\n",
    "        # turn them into long tensors\n",
    "        self.y = self.y.long()\n",
    "        \n",
    "\n",
    "    def __len__(self):\n",
    "        return len(self.X)\n",
    "\n",
    "    def __getitem__(self, idx):\n",
    "        return self.X[idx], self.y[idx]"
   ]
  },
  {
   "cell_type": "code",
   "execution_count": 5,
   "metadata": {},
   "outputs": [],
   "source": [
    "stacked_mnist_train = StackedMnistDataset(train_dataset)\n",
    "stacked_mnist_test = StackedMnistDataset(test_dataset)\n",
    "\n",
    "train_loader = DataLoader(stacked_mnist_train, batch_size=BATCH_SIZE, shuffle=True)\n",
    "test_loader = DataLoader(stacked_mnist_test, batch_size=BATCH_SIZE, shuffle=False)"
   ]
  },
  {
   "cell_type": "code",
   "execution_count": 6,
   "metadata": {},
   "outputs": [
    {
     "name": "stdout",
     "output_type": "stream",
     "text": [
      "torch.Size([1024, 1, 28, 28])\n",
      "torch.Size([1024])\n"
     ]
    }
   ],
   "source": [
    "for x, y in train_loader:\n",
    "    # reshape to (batch_size, num_channels, height, width)\n",
    "    x = x.reshape(-1, 1, 28, 28)\n",
    "    print(x.shape)\n",
    "    print(y.shape)\n",
    "    break"
   ]
  },
  {
   "cell_type": "code",
   "execution_count": 7,
   "metadata": {},
   "outputs": [
    {
     "data": {
      "text/plain": [
       "<matplotlib.image.AxesImage at 0x7f2c665a5c40>"
      ]
     },
     "execution_count": 7,
     "metadata": {},
     "output_type": "execute_result"
    },
    {
     "data": {
      "image/png": "[encoded data removed]",
      "text/plain": [
       "<Figure size 432x288 with 1 Axes>"
      ]
     },
     "metadata": {
      "needs_background": "light"
     },
     "output_type": "display_data"
    }
   ],
   "source": [
    "plt.imshow(next(iter(train_loader))[0][0].squeeze(), cmap='gray')"
   ]
  },
  {
   "cell_type": "code",
   "execution_count": 8,
   "metadata": {},
   "outputs": [
    {
     "name": "stdout",
     "output_type": "stream",
     "text": [
      "device: cuda\n",
      "Loaded model from file\n"
     ]
    }
   ],
   "source": [
    "device = (\"cuda\" if torch.cuda.is_available() else \"cpu\")\n",
    "print(f\"device: {device}\")\n",
    "# model = Autoencoder()\n",
    "\n",
    "try:\n",
    "    model = torch.load(\"./models/mono_autoencoder\")\n",
    "    model.to(device)\n",
    "    print(\"Loaded model from file\")\n",
    "\n",
    "except:\n",
    "    print(\"couldnt load\")"
   ]
  },
  {
   "cell_type": "code",
   "execution_count": 8,
   "metadata": {},
   "outputs": [
    {
     "name": "stdout",
     "output_type": "stream",
     "text": [
      "device: cuda\n"
     ]
    },
    {
     "data": {
      "text/plain": [
       "Autoencoder(\n",
       "  (encoder): Sequential(\n",
       "    (0): Conv2d(1, 16, kernel_size=(3, 3), stride=(2, 2), padding=(1, 1))\n",
       "    (1): BatchNorm2d(16, eps=1e-05, momentum=0.1, affine=True, track_running_stats=True)\n",
       "    (2): LeakyReLU(negative_slope=0.2)\n",
       "    (3): Conv2d(16, 32, kernel_size=(3, 3), stride=(2, 2), padding=(1, 1))\n",
       "    (4): BatchNorm2d(32, eps=1e-05, momentum=0.1, affine=True, track_running_stats=True)\n",
       "    (5): LeakyReLU(negative_slope=0.2)\n",
       "    (6): Conv2d(32, 64, kernel_size=(7, 7), stride=(1, 1))\n",
       "    (7): BatchNorm2d(64, eps=1e-05, momentum=0.1, affine=True, track_running_stats=True)\n",
       "    (8): LeakyReLU(negative_slope=0.2)\n",
       "    (9): Flatten(start_dim=1, end_dim=-1)\n",
       "    (10): Linear(in_features=64, out_features=32, bias=True)\n",
       "    (11): BatchNorm1d(32, eps=1e-05, momentum=0.1, affine=True, track_running_stats=True)\n",
       "    (12): LeakyReLU(negative_slope=0.2)\n",
       "    (13): Linear(in_features=32, out_features=16, bias=True)\n",
       "  )\n",
       "  (decoder): Sequential(\n",
       "    (0): Linear(in_features=16, out_features=32, bias=True)\n",
       "    (1): BatchNorm1d(32, eps=1e-05, momentum=0.1, affine=True, track_running_stats=True)\n",
       "    (2): LeakyReLU(negative_slope=0.2)\n",
       "    (3): Linear(in_features=32, out_features=64, bias=True)\n",
       "    (4): BatchNorm1d(64, eps=1e-05, momentum=0.1, affine=True, track_running_stats=True)\n",
       "    (5): LeakyReLU(negative_slope=0.2)\n",
       "    (6): Unflatten(dim=1, unflattened_size=(64, 1, 1))\n",
       "    (7): ConvTranspose2d(64, 32, kernel_size=(7, 7), stride=(1, 1))\n",
       "    (8): BatchNorm2d(32, eps=1e-05, momentum=0.1, affine=True, track_running_stats=True)\n",
       "    (9): LeakyReLU(negative_slope=0.2)\n",
       "    (10): ConvTranspose2d(32, 16, kernel_size=(3, 3), stride=(2, 2), padding=(1, 1), output_padding=(1, 1))\n",
       "    (11): BatchNorm2d(16, eps=1e-05, momentum=0.1, affine=True, track_running_stats=True)\n",
       "    (12): LeakyReLU(negative_slope=0.2)\n",
       "    (13): ConvTranspose2d(16, 1, kernel_size=(3, 3), stride=(2, 2), padding=(1, 1), output_padding=(1, 1))\n",
       "    (14): Sigmoid()\n",
       "  )\n",
       ")"
      ]
     },
     "execution_count": 8,
     "metadata": {},
     "output_type": "execute_result"
    }
   ],
   "source": [
    "device = (\"cuda\" if torch.cuda.is_available() else \"cpu\")\n",
    "print(f\"device: {device}\")\n",
    "model = Autoencoder()\n",
    "criterion = nn.BCELoss()\n",
    "# criterion = nn.MSELoss()\n",
    "optimizer = optim.Adam(model.parameters(), lr=1e-3, weight_decay=1e-5)\n",
    "\n",
    "model.to(device)"
   ]
  },
  {
   "cell_type": "code",
   "execution_count": 9,
   "metadata": {},
   "outputs": [],
   "source": [
    "def train(epochs=EPOCHS, force_retrain=False):\n",
    "\n",
    "    # try to load the model if it exists and force_retrain is False\n",
    "    if not force_retrain:\n",
    "        try:\n",
    "            checkpoint = torch.load(\"./models/gen_autoencoder.pth\")\n",
    "            model.load_state_dict(checkpoint[\"model_state_dict\"])\n",
    "            optimizer.load_state_dict(checkpoint[\"optimizer_state_dict\"])\n",
    "            start_epoch = checkpoint[\"epoch\"] + 1\n",
    "            print(\"Loaded checkpoint from epoch\", start_epoch)\n",
    "        except:\n",
    "            start_epoch = 0\n",
    "            print(\"Starting from scratch\")\n",
    "    else:\n",
    "        start_epoch = 0\n",
    "        print(\"Starting from scratch (forced retrain)\")\n",
    "\n",
    "    # train the model\n",
    "    outputs = []\n",
    "    model.train()\n",
    "    for epoch in range(start_epoch, epochs):\n",
    "        for im, _ in train_loader:\n",
    "            num_channels = im.shape[-1]\n",
    "            im = im.reshape(-1, num_channels, 28, 28)\n",
    "            im = im.to(device)\n",
    "            # ===================forward=====================\n",
    "            output = model(im)\n",
    "            output = output.squeeze().reshape(-1, num_channels, 28, 28)\n",
    "            loss = criterion(output, im)\n",
    "            # ===================backward====================\n",
    "            optimizer.zero_grad()\n",
    "            loss.backward()\n",
    "            optimizer.step()\n",
    "        # ===================log========================\n",
    "        print('epoch [{}/{}], loss:{:.4f}'.format(epoch + 1, EPOCHS, loss.item()))\n",
    "        outputs.append((epoch, im, output))\n",
    "\n",
    "        # save the model\n",
    "        if outputs:\n",
    "            checkpoint = {\n",
    "                \"epoch\": epoch,\n",
    "                \"model_state_dict\": model.state_dict(),\n",
    "                \"optimizer_state_dict\": optimizer.state_dict(),\n",
    "            }\n",
    "            torch.save(checkpoint, \"./models/gen_autoencoder.pth\")\n",
    "\n",
    "    return outputs"
   ]
  },
  {
   "cell_type": "code",
   "execution_count": 10,
   "metadata": {},
   "outputs": [
    {
     "name": "stdout",
     "output_type": "stream",
     "text": [
      "Starting from scratch (forced retrain)\n",
      "epoch [1/100], loss:0.2893\n",
      "epoch [2/100], loss:0.1901\n",
      "epoch [3/100], loss:0.1421\n",
      "epoch [4/100], loss:0.1212\n",
      "epoch [5/100], loss:0.1065\n",
      "epoch [6/100], loss:0.0973\n",
      "epoch [7/100], loss:0.0905\n",
      "epoch [8/100], loss:0.0847\n",
      "epoch [9/100], loss:0.0839\n",
      "epoch [10/100], loss:0.0790\n",
      "epoch [11/100], loss:0.0798\n",
      "epoch [12/100], loss:0.0768\n",
      "epoch [13/100], loss:0.0753\n",
      "epoch [14/100], loss:0.0725\n",
      "epoch [15/100], loss:0.0719\n",
      "epoch [16/100], loss:0.0716\n",
      "epoch [17/100], loss:0.0703\n",
      "epoch [18/100], loss:0.0693\n",
      "epoch [19/100], loss:0.0679\n",
      "epoch [20/100], loss:0.0669\n",
      "epoch [21/100], loss:0.0698\n",
      "epoch [22/100], loss:0.0634\n",
      "epoch [23/100], loss:0.0671\n",
      "epoch [24/100], loss:0.0649\n",
      "epoch [25/100], loss:0.0642\n",
      "epoch [26/100], loss:0.0663\n",
      "epoch [27/100], loss:0.0632\n",
      "epoch [28/100], loss:0.0634\n",
      "epoch [29/100], loss:0.0627\n",
      "epoch [30/100], loss:0.0643\n",
      "epoch [31/100], loss:0.0653\n",
      "epoch [32/100], loss:0.0618\n",
      "epoch [33/100], loss:0.0594\n",
      "epoch [34/100], loss:0.0616\n",
      "epoch [35/100], loss:0.0629\n",
      "epoch [36/100], loss:0.0613\n",
      "epoch [37/100], loss:0.0587\n",
      "epoch [38/100], loss:0.0593\n",
      "epoch [39/100], loss:0.0597\n",
      "epoch [40/100], loss:0.0570\n",
      "epoch [41/100], loss:0.0611\n",
      "epoch [42/100], loss:0.0579\n",
      "epoch [43/100], loss:0.0598\n",
      "epoch [44/100], loss:0.0576\n",
      "epoch [45/100], loss:0.0569\n",
      "epoch [46/100], loss:0.0598\n",
      "epoch [47/100], loss:0.0582\n",
      "epoch [48/100], loss:0.0600\n",
      "epoch [49/100], loss:0.0598\n",
      "epoch [50/100], loss:0.0568\n",
      "epoch [51/100], loss:0.0586\n",
      "epoch [52/100], loss:0.0570\n",
      "epoch [53/100], loss:0.0579\n",
      "epoch [54/100], loss:0.0564\n",
      "epoch [55/100], loss:0.0598\n",
      "epoch [56/100], loss:0.0560\n",
      "epoch [57/100], loss:0.0575\n",
      "epoch [58/100], loss:0.0583\n",
      "epoch [59/100], loss:0.0587\n",
      "epoch [60/100], loss:0.0561\n",
      "epoch [61/100], loss:0.0577\n",
      "epoch [62/100], loss:0.0561\n",
      "epoch [63/100], loss:0.0565\n",
      "epoch [64/100], loss:0.0583\n",
      "epoch [65/100], loss:0.0549\n",
      "epoch [66/100], loss:0.0594\n",
      "epoch [67/100], loss:0.0548\n",
      "epoch [68/100], loss:0.0590\n",
      "epoch [69/100], loss:0.0577\n",
      "epoch [70/100], loss:0.0569\n",
      "epoch [71/100], loss:0.0577\n",
      "epoch [72/100], loss:0.0563\n",
      "epoch [73/100], loss:0.0566\n",
      "epoch [74/100], loss:0.0572\n",
      "epoch [75/100], loss:0.0555\n",
      "epoch [76/100], loss:0.0545\n",
      "epoch [77/100], loss:0.0538\n",
      "epoch [78/100], loss:0.0573\n",
      "epoch [79/100], loss:0.0582\n",
      "epoch [80/100], loss:0.0573\n",
      "epoch [81/100], loss:0.0566\n",
      "epoch [82/100], loss:0.0530\n",
      "epoch [83/100], loss:0.0558\n",
      "epoch [84/100], loss:0.0533\n",
      "epoch [85/100], loss:0.0540\n",
      "epoch [86/100], loss:0.0557\n",
      "epoch [87/100], loss:0.0556\n",
      "epoch [88/100], loss:0.0552\n",
      "epoch [89/100], loss:0.0545\n",
      "epoch [90/100], loss:0.0548\n",
      "epoch [91/100], loss:0.0548\n",
      "epoch [92/100], loss:0.0548\n",
      "epoch [93/100], loss:0.0582\n",
      "epoch [94/100], loss:0.0548\n",
      "epoch [95/100], loss:0.0555\n",
      "epoch [96/100], loss:0.0534\n",
      "epoch [97/100], loss:0.0521\n",
      "epoch [98/100], loss:0.0544\n",
      "epoch [99/100], loss:0.0567\n",
      "epoch [100/100], loss:0.0538\n"
     ]
    }
   ],
   "source": [
    "EPOCHS = 100\n",
    "train_outputs = train(epochs=EPOCHS, force_retrain=True)"
   ]
  },
  {
   "cell_type": "code",
   "execution_count": 9,
   "metadata": {},
   "outputs": [
    {
     "ename": "NameError",
     "evalue": "name 'train_outputs' is not defined",
     "output_type": "error",
     "traceback": [
      "\u001b[0;31m---------------------------------------------------------------------------\u001b[0m",
      "\u001b[0;31mNameError\u001b[0m                                 Traceback (most recent call last)",
      "\u001b[0;32m<ipython-input-9-ab00a6c63ce8>\u001b[0m in \u001b[0;36m<module>\u001b[0;34m\u001b[0m\n\u001b[0;32m----> 1\u001b[0;31m \u001b[0;32mif\u001b[0m \u001b[0mtrain_outputs\u001b[0m\u001b[0;34m:\u001b[0m\u001b[0;34m\u001b[0m\u001b[0;34m\u001b[0m\u001b[0m\n\u001b[0m\u001b[1;32m      2\u001b[0m     \u001b[0;31m# ensure 10 iterations\u001b[0m\u001b[0;34m\u001b[0m\u001b[0;34m\u001b[0m\u001b[0;34m\u001b[0m\u001b[0m\n\u001b[1;32m      3\u001b[0m     \u001b[0mdesired_iterations\u001b[0m \u001b[0;34m=\u001b[0m \u001b[0;36m10\u001b[0m\u001b[0;34m\u001b[0m\u001b[0;34m\u001b[0m\u001b[0m\n\u001b[1;32m      4\u001b[0m     \u001b[0mnum_train_outputs\u001b[0m \u001b[0;34m=\u001b[0m \u001b[0mlen\u001b[0m\u001b[0;34m(\u001b[0m\u001b[0mtrain_outputs\u001b[0m\u001b[0;34m)\u001b[0m\u001b[0;34m\u001b[0m\u001b[0;34m\u001b[0m\u001b[0m\n\u001b[1;32m      5\u001b[0m     \u001b[0mstep\u001b[0m \u001b[0;34m=\u001b[0m \u001b[0mmax\u001b[0m\u001b[0;34m(\u001b[0m\u001b[0mnum_train_outputs\u001b[0m \u001b[0;34m//\u001b[0m \u001b[0mdesired_iterations\u001b[0m\u001b[0;34m,\u001b[0m \u001b[0;36m1\u001b[0m\u001b[0;34m)\u001b[0m\u001b[0;34m\u001b[0m\u001b[0;34m\u001b[0m\u001b[0m\n",
      "\u001b[0;31mNameError\u001b[0m: name 'train_outputs' is not defined"
     ]
    }
   ],
   "source": [
    "if train_outputs:\n",
    "    # ensure 10 iterations\n",
    "    desired_iterations = 10\n",
    "    num_train_outputs = len(train_outputs)\n",
    "    step = max(num_train_outputs // desired_iterations, 1)\n",
    "    \n",
    "    for k in range(0, EPOCHS, step):\n",
    "        plt.figure(figsize=(9, 2))\n",
    "        plt.gray()\n",
    "\n",
    "        imgs = train_outputs[k][1].reshape(-1, 28, 28, 1).detach().cpu().numpy()\n",
    "        recon = train_outputs[k][2].reshape(-1, 28, 28, 1).detach().cpu().numpy()\n",
    "\n",
    "        for i, item in enumerate(imgs):\n",
    "            if i >= 9:\n",
    "                break\n",
    "            plt.subplot(2, 9, i + 1)\n",
    "            plt.imshow(item.squeeze())\n",
    "\n",
    "        for i, item in enumerate(recon):\n",
    "            if i >= 9:\n",
    "                break\n",
    "            plt.subplot(2, 9, 9 + i + 1)\n",
    "            plt.imshow(item.squeeze())\n",
    "\n",
    "        plt.suptitle(f\"Epoch {k}\")"
   ]
  },
  {
   "cell_type": "code",
   "execution_count": 10,
   "metadata": {},
   "outputs": [],
   "source": [
    "# run the model on the test set\n",
    "test_outputs, test_labels = generate_test_images(model, test_loader, device)"
   ]
  },
  {
   "cell_type": "code",
   "execution_count": 11,
   "metadata": {},
   "outputs": [],
   "source": [
    "test_outputs = test_outputs.cpu().numpy()\n",
    "test_labels = test_labels.cpu().numpy()"
   ]
  },
  {
   "cell_type": "code",
   "execution_count": 12,
   "metadata": {},
   "outputs": [],
   "source": [
    "verification_net = VerificationNet()"
   ]
  },
  {
   "cell_type": "code",
   "execution_count": 13,
   "metadata": {},
   "outputs": [
    {
     "name": "stdout",
     "output_type": "stream",
     "text": [
      "Predictability: 0.9067 \n",
      "Accuracy: 0.8829 \n",
      "Coverage: 1.0\n"
     ]
    }
   ],
   "source": [
    "predictability, accuracy = verification_net.check_predictability(test_outputs, test_labels, tolerance=0.8)\n",
    "coverage = verification_net.check_class_coverage(test_outputs, tolerance=0.8)\n",
    "print(f\"Predictability: {predictability} \\nAccuracy: {accuracy} \\nCoverage: {coverage}\")"
   ]
  },
  {
   "cell_type": "code",
   "execution_count": 14,
   "metadata": {},
   "outputs": [
    {
     "data": {
      "image/png": "[encoded data removed]",
      "text/plain": [
       "<Figure size 432x288 with 1 Axes>"
      ]
     },
     "metadata": {},
     "output_type": "display_data"
    },
    {
     "name": "stdout",
     "output_type": "stream",
     "text": [
      "Predictability: 0.3333333333333333 \n",
      "Accuracy: None \n",
      "Coverage: 0.2\n"
     ]
    },
    {
     "data": {
      "image/png": "[encoded data removed]",
      "text/plain": [
       "<Figure size 432x288 with 1 Axes>"
      ]
     },
     "metadata": {
      "needs_background": "light"
     },
     "output_type": "display_data"
    }
   ],
   "source": [
    "np.random.seed(42)\n",
    "decoder = model.decoder\n",
    "num_samples = 36\n",
    "z = np.random.rand(num_samples, 16)\n",
    "\n",
    "generative_out = decoder(torch.from_numpy(z).float().to(device)).reshape(-1, 28, 28, 1).detach().cpu().numpy()\n",
    "generative_out_tile = generative_out.squeeze()\n",
    "tiled_image = tile_images(generative_out_tile, show=True)\n",
    "\n",
    "generative_predictability, generative_accuracy = verification_net.check_predictability(generative_out, tolerance=0.8)\n",
    "generative_coverage = verification_net.check_class_coverage(generative_out, tolerance=0.8)\n",
    "print(f\"Predictability: {generative_predictability} \\nAccuracy: {generative_accuracy} \\nCoverage: {generative_coverage}\")"
   ]
  },
  {
   "cell_type": "code",
   "execution_count": null,
   "metadata": {},
   "outputs": [],
   "source": []
  }
 ],
 "metadata": {
  "kernelspec": {
   "display_name": "Python 3",
   "language": "python",
   "name": "python3"
  },
  "language_info": {
   "codemirror_mode": {
    "name": "ipython",
    "version": 3
   },
   "file_extension": ".py",
   "mimetype": "text/x-python",
   "name": "python",
   "nbconvert_exporter": "python",
   "pygments_lexer": "ipython3",
   "version": "3.8.10"
  },
  "orig_nbformat": 4,
  "vscode": {
   "interpreter": {
    "hash": "767d51c1340bd893661ea55ea3124f6de3c7a262a8b4abca0554b478b1e2ff90"
   }
  }
 },
 "nbformat": 4,
 "nbformat_minor": 2
}
