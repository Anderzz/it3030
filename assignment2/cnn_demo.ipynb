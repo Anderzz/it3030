{
 "cells": [
  {
   "cell_type": "code",
   "execution_count": 2,
   "metadata": {},
   "outputs": [],
   "source": [
    "import pandas as pd\n",
    "import numpy as np\n",
    "import matplotlib.pyplot as plt\n",
    "import plotly.graph_objects as go\n",
    "import torch\n",
    "import torch.nn as nn\n",
    "from torch.utils.data import Dataset, DataLoader, random_split\n",
    "from data_reader_holdout import read_consumption_and_weather_holdout\n",
    "from data_reader import read_consumption_and_weather\n",
    "from sklearn.preprocessing import MinMaxScaler, StandardScaler"
   ]
  },
  {
   "cell_type": "code",
   "execution_count": 3,
   "metadata": {},
   "outputs": [],
   "source": [
    "def preprocess(holdout:bool=False):\n",
    "    if holdout:\n",
    "        df = read_consumption_and_weather_holdout()[-1]\n",
    "    else:\n",
    "        df = read_consumption_and_weather()[-1]\n",
    "\n",
    "    df_no1 = df['NO1']\n",
    "    df_no1.loc[:,'region'] = 1\n",
    "\n",
    "    df_no2 = df['NO2']\n",
    "    df_no2.loc[:,'region'] = 2\n",
    "\n",
    "    df_no3 = df['NO3']\n",
    "    df_no3.loc[:,'region'] = 3\n",
    "\n",
    "    df_no4 = df['NO4']\n",
    "    df_no4.loc[:,'region'] = 4\n",
    "\n",
    "    df_no5 = df['NO5']\n",
    "    df_no5.loc[:,'region'] = 5\n",
    "\n",
    "    # combine all dataframes into one\n",
    "    df = pd.concat([df_no1, df_no2, df_no3, df_no4, df_no5])\n",
    "\n",
    "\n",
    "    # datetime features\n",
    "    dates = df.index\n",
    "    df['time_of_day'] = df.index.hour\n",
    "    df['time_of_week'] = df.index.dayofweek\n",
    "    df['time_of_month'] = df.index.day\n",
    "    df['time_of_year'] = df.index.month\n",
    "\n",
    "\n",
    "    df['consumption_24h_lag'] = df['consumption'].shift(24)#fillna(method='bfill')\n",
    "    df = df.dropna()\n",
    "    df['consumption_yday_mean'] = df['consumption'].shift(24).rolling(24).mean()#fillna(method='bfill')\n",
    "    df = df.dropna()\n",
    "    #df['consumption_prev'] = df['consumption'].shift(1)#fillna(method='bfill')\n",
    "    df = df.dropna()\n",
    "\n",
    "    df = df[['temperature', 'consumption', 'consumption_24h_lag', 'region', 'time_of_day', 'time_of_week', 'time_of_year', 'consumption_yday_mean']]\n",
    "\n",
    "    target_feature = 'consumption'\n",
    "    #features = list(df.columns.difference([target_feature])) #kanskje bruk denne istedenfor\n",
    "    features = list(df.columns)\n",
    "    print(\"features: \", len(features))\n",
    "    forecast_lead = 1\n",
    "    target = f\"{target_feature}_lead{forecast_lead}\"\n",
    "\n",
    "    df[target] = df[target_feature].shift(-forecast_lead)\n",
    "    df = df.iloc[:-forecast_lead]\n",
    "    \n",
    "    return df, target, features"
   ]
  },
  {
   "cell_type": "code",
   "execution_count": 4,
   "metadata": {},
   "outputs": [],
   "source": [
    "def plot_losses(tr, va):\n",
    "  import matplotlib.pyplot as plt\n",
    "  fig, ax = plt.subplots()\n",
    "  ax.plot(tr, label='train')\n",
    "  ax.plot(va, label='validation')\n",
    "  plt.show()"
   ]
  },
  {
   "cell_type": "code",
   "execution_count": 5,
   "metadata": {},
   "outputs": [
    {
     "name": "stdout",
     "output_type": "stream",
     "text": [
      "Holes by length and occurrences in column NO3:\n",
      "Filling holes up to length 3\n",
      "Any remaining holes after interpolation? False\n",
      "features:  8\n"
     ]
    },
    {
     "name": "stderr",
     "output_type": "stream",
     "text": [
      "/usr/local/lib/python3.8/dist-packages/pandas/core/indexing.py:1597: SettingWithCopyWarning: \n",
      "A value is trying to be set on a copy of a slice from a DataFrame.\n",
      "Try using .loc[row_indexer,col_indexer] = value instead\n",
      "\n",
      "See the caveats in the documentation: https://pandas.pydata.org/pandas-docs/stable/user_guide/indexing.html#returning-a-view-versus-a-copy\n",
      "  self.obj[key] = value\n",
      "/usr/local/lib/python3.8/dist-packages/pandas/core/indexing.py:1720: SettingWithCopyWarning: \n",
      "A value is trying to be set on a copy of a slice from a DataFrame.\n",
      "Try using .loc[row_indexer,col_indexer] = value instead\n",
      "\n",
      "See the caveats in the documentation: https://pandas.pydata.org/pandas-docs/stable/user_guide/indexing.html#returning-a-view-versus-a-copy\n",
      "  self._setitem_single_column(loc, value, pi)\n"
     ]
    }
   ],
   "source": [
    "df, target, features = preprocess(holdout=False)\n",
    "\n",
    "# df_holdout, _, _ = preprocess(holdout=True)"
   ]
  },
  {
   "cell_type": "code",
   "execution_count": 6,
   "metadata": {},
   "outputs": [
    {
     "name": "stdout",
     "output_type": "stream",
     "text": [
      "Test set fraction: 0.10327611488317236\n"
     ]
    }
   ],
   "source": [
    "validation_start = \"2022-01-01\"\n",
    "test_start = \"2022-06-20\"\n",
    "\n",
    "df_train = df.loc[:validation_start].copy()\n",
    "df_val = df.loc[validation_start:test_start].copy()\n",
    "df_test = df.loc[test_start:].copy()\n",
    "\n",
    "print(\"Test set fraction:\", len(df_test) / len(df))"
   ]
  },
  {
   "cell_type": "code",
   "execution_count": 7,
   "metadata": {},
   "outputs": [],
   "source": [
    "# scale\n",
    "mean = df_train.mean()\n",
    "std = df_train.std()\n",
    "\n",
    "def scale(df, mean, std):\n",
    "  df[['temperature', 'consumption', 'consumption_24h_lag', 'consumption_yday_mean', 'consumption_lead1']] = \\\n",
    "    (df[['temperature', 'consumption', 'consumption_24h_lag', 'consumption_yday_mean', 'consumption_lead1']]\\\n",
    "      -mean[['temperature', 'consumption', 'consumption_24h_lag', 'consumption_yday_mean', 'consumption_lead1']])\\\n",
    "        /std[['temperature', 'consumption', 'consumption_24h_lag', 'consumption_yday_mean', 'consumption_lead1']]\n",
    "  return df\n",
    "\n",
    "df_train = scale(df_train, mean, std)\n",
    "df_val = scale(df_val, mean, std)\n",
    "df_test = scale(df_test, mean, std)\n",
    "\n"
   ]
  },
  {
   "cell_type": "code",
   "execution_count": 8,
   "metadata": {},
   "outputs": [
    {
     "data": {
      "text/html": [
       "<div>\n",
       "<style scoped>\n",
       "    .dataframe tbody tr th:only-of-type {\n",
       "        vertical-align: middle;\n",
       "    }\n",
       "\n",
       "    .dataframe tbody tr th {\n",
       "        vertical-align: top;\n",
       "    }\n",
       "\n",
       "    .dataframe thead th {\n",
       "        text-align: right;\n",
       "    }\n",
       "</style>\n",
       "<table border=\"1\" class=\"dataframe\">\n",
       "  <thead>\n",
       "    <tr style=\"text-align: right;\">\n",
       "      <th></th>\n",
       "      <th>temperature</th>\n",
       "      <th>consumption</th>\n",
       "      <th>consumption_24h_lag</th>\n",
       "      <th>region</th>\n",
       "      <th>time_of_day</th>\n",
       "      <th>time_of_week</th>\n",
       "      <th>time_of_year</th>\n",
       "      <th>consumption_yday_mean</th>\n",
       "      <th>consumption_lead1</th>\n",
       "    </tr>\n",
       "  </thead>\n",
       "  <tbody>\n",
       "    <tr>\n",
       "      <th>2022-01-01 19:00:00+00:00</th>\n",
       "      <td>0.176706</td>\n",
       "      <td>-0.812833</td>\n",
       "      <td>-0.848767</td>\n",
       "      <td>5</td>\n",
       "      <td>19</td>\n",
       "      <td>5</td>\n",
       "      <td>1</td>\n",
       "      <td>-0.853229</td>\n",
       "      <td>-0.849998</td>\n",
       "    </tr>\n",
       "    <tr>\n",
       "      <th>2022-01-01 20:00:00+00:00</th>\n",
       "      <td>0.203883</td>\n",
       "      <td>-0.849985</td>\n",
       "      <td>-0.877159</td>\n",
       "      <td>5</td>\n",
       "      <td>20</td>\n",
       "      <td>5</td>\n",
       "      <td>1</td>\n",
       "      <td>-0.856582</td>\n",
       "      <td>-0.882539</td>\n",
       "    </tr>\n",
       "    <tr>\n",
       "      <th>2022-01-01 21:00:00+00:00</th>\n",
       "      <td>0.231059</td>\n",
       "      <td>-0.882526</td>\n",
       "      <td>-0.898119</td>\n",
       "      <td>5</td>\n",
       "      <td>21</td>\n",
       "      <td>5</td>\n",
       "      <td>1</td>\n",
       "      <td>-0.859169</td>\n",
       "      <td>-0.920161</td>\n",
       "    </tr>\n",
       "    <tr>\n",
       "      <th>2022-01-01 22:00:00+00:00</th>\n",
       "      <td>0.258236</td>\n",
       "      <td>-0.920149</td>\n",
       "      <td>-0.918242</td>\n",
       "      <td>5</td>\n",
       "      <td>22</td>\n",
       "      <td>5</td>\n",
       "      <td>1</td>\n",
       "      <td>-0.860708</td>\n",
       "      <td>-0.952852</td>\n",
       "    </tr>\n",
       "    <tr>\n",
       "      <th>2022-01-01 23:00:00+00:00</th>\n",
       "      <td>0.299000</td>\n",
       "      <td>-0.952839</td>\n",
       "      <td>-0.931685</td>\n",
       "      <td>5</td>\n",
       "      <td>23</td>\n",
       "      <td>5</td>\n",
       "      <td>1</td>\n",
       "      <td>-0.861172</td>\n",
       "      <td>-0.983324</td>\n",
       "    </tr>\n",
       "  </tbody>\n",
       "</table>\n",
       "</div>"
      ],
      "text/plain": [
       "                           temperature  consumption  consumption_24h_lag  \\\n",
       "2022-01-01 19:00:00+00:00     0.176706    -0.812833            -0.848767   \n",
       "2022-01-01 20:00:00+00:00     0.203883    -0.849985            -0.877159   \n",
       "2022-01-01 21:00:00+00:00     0.231059    -0.882526            -0.898119   \n",
       "2022-01-01 22:00:00+00:00     0.258236    -0.920149            -0.918242   \n",
       "2022-01-01 23:00:00+00:00     0.299000    -0.952839            -0.931685   \n",
       "\n",
       "                           region  time_of_day  time_of_week  time_of_year  \\\n",
       "2022-01-01 19:00:00+00:00       5           19             5             1   \n",
       "2022-01-01 20:00:00+00:00       5           20             5             1   \n",
       "2022-01-01 21:00:00+00:00       5           21             5             1   \n",
       "2022-01-01 22:00:00+00:00       5           22             5             1   \n",
       "2022-01-01 23:00:00+00:00       5           23             5             1   \n",
       "\n",
       "                           consumption_yday_mean  consumption_lead1  \n",
       "2022-01-01 19:00:00+00:00              -0.853229          -0.849998  \n",
       "2022-01-01 20:00:00+00:00              -0.856582          -0.882539  \n",
       "2022-01-01 21:00:00+00:00              -0.859169          -0.920161  \n",
       "2022-01-01 22:00:00+00:00              -0.860708          -0.952852  \n",
       "2022-01-01 23:00:00+00:00              -0.861172          -0.983324  "
      ]
     },
     "execution_count": 8,
     "metadata": {},
     "output_type": "execute_result"
    }
   ],
   "source": [
    "df_train.tail()"
   ]
  },
  {
   "cell_type": "code",
   "execution_count": 9,
   "metadata": {},
   "outputs": [],
   "source": [
    "class SequenceDataset(Dataset):\n",
    "    def __init__(self, dataframe, target, features, sequence_length=24):\n",
    "        self.features = features\n",
    "        self.target = target\n",
    "        self.sequence_length = sequence_length\n",
    "        self.y = torch.Tensor(dataframe[target].values).float()\n",
    "        self.X = torch.Tensor(dataframe[features].values).float()\n",
    "\n",
    "    def __len__(self):\n",
    "        return self.X.shape[0]\n",
    "    \n",
    "    def __getitem__(self, idx):\n",
    "        if idx >= self.sequence_length - 1:\n",
    "            i_start = idx - self.sequence_length + 1\n",
    "            x = self.X[i_start:(idx + 1), :]\n",
    "        else:\n",
    "            padding = self.X[0].repeat(self.sequence_length - idx - 1, 1)\n",
    "            x = self.X[0:(idx + 1), :]\n",
    "            x = torch.cat((padding, x), 0)\n",
    "\n",
    "        return x, self.y[idx]"
   ]
  },
  {
   "cell_type": "code",
   "execution_count": 10,
   "metadata": {},
   "outputs": [
    {
     "name": "stdout",
     "output_type": "stream",
     "text": [
      "Features shape: torch.Size([32, 24, 8])\n",
      "Target shape: torch.Size([32])\n"
     ]
    }
   ],
   "source": [
    "torch.manual_seed(42)\n",
    "\n",
    "batch_size = 32\n",
    "sequence_length = 24\n",
    "\n",
    "train_dataset = SequenceDataset(\n",
    "    df_train, \n",
    "    target = target, \n",
    "    features = features, \n",
    "    sequence_length=sequence_length\n",
    ")\n",
    "\n",
    "val_dataset = SequenceDataset(\n",
    "    df_val,\n",
    "    target = target,\n",
    "    features = features,\n",
    "    sequence_length=sequence_length\n",
    ")\n",
    "\n",
    "test_dataset = SequenceDataset(\n",
    "    df_test,\n",
    "    target = target,\n",
    "    features = features,\n",
    "    sequence_length=sequence_length\n",
    ")\n",
    "\n",
    "# holdout_dataset = SequenceDataset(\n",
    "#     df_holdout,\n",
    "#     target = target,\n",
    "#     features = features,\n",
    "#     sequence_length=sequence_length\n",
    "# )\n",
    "\n",
    "train_loader = DataLoader(train_dataset, batch_size=batch_size, shuffle=True)\n",
    "val_loader = DataLoader(val_dataset, batch_size=batch_size, shuffle=True)\n",
    "test_loader = DataLoader(test_dataset, batch_size=batch_size, shuffle=False)\n",
    "# holdout_loader = DataLoader(holdout_dataset, batch_size=batch_size, shuffle=False)\n",
    "\n",
    "X, y = next(iter(train_loader))\n",
    "print(\"Features shape:\", X.shape)\n",
    "print(\"Target shape:\", y.shape)\n"
   ]
  },
  {
   "cell_type": "code",
   "execution_count": 11,
   "metadata": {},
   "outputs": [],
   "source": [
    "class CNNModel(nn.Module):\n",
    "    def __init__(self, tw, num_features, use_cuda=False):\n",
    "        super().__init__()\n",
    "        self.tw = tw\n",
    "        self.num_features = num_features\n",
    "\n",
    "        self.feature_extractor = nn.Sequential(\n",
    "            nn.Conv1d(in_channels=tw, out_channels=32, kernel_size=3, stride=1, padding=1),\n",
    "            nn.LeakyReLU(0.2),\n",
    "            nn.BatchNorm1d(32),\n",
    "            nn.MaxPool1d(2, 2), # 128\n",
    "\n",
    "            nn.Conv1d(in_channels=32, out_channels=64, kernel_size=3, stride=1, padding=1),\n",
    "            nn.LeakyReLU(0.2),\n",
    "            nn.BatchNorm1d(64),\n",
    "\n",
    "            nn.Conv1d(in_channels=64, out_channels=64, kernel_size=3, stride=1, padding=1),\n",
    "            nn.LeakyReLU(0.2),\n",
    "            nn.BatchNorm1d(64),\n",
    "\n",
    "            nn.Conv1d(in_channels=64, out_channels=32, kernel_size=3, stride=1, padding=1),\n",
    "            nn.LeakyReLU(0.2),\n",
    "            nn.BatchNorm1d(32),\n",
    "            nn.MaxPool1d(2, 2), # 64\n",
    "        )\n",
    "\n",
    "        self.linear = nn.Sequential(\n",
    "        nn.Linear(in_features=64, out_features=32),\n",
    "        nn.LeakyReLU(0.2),\n",
    "        nn.Linear(in_features=32, out_features=1)\n",
    "        )\n",
    "\n",
    "        if use_cuda:\n",
    "            self.to(device = torch.device('cuda'))\n",
    "\n",
    "\n",
    "    def forward(self, x):\n",
    "        batch_size = x.shape[0]\n",
    "        x = self.feature_extractor(x)\n",
    "        x = x.view(batch_size, -1)\n",
    "        x = self.linear(x).flatten()\n",
    "        return x\n"
   ]
  },
  {
   "cell_type": "code",
   "execution_count": 12,
   "metadata": {},
   "outputs": [],
   "source": [
    "# USE_CUDA = torch.cuda.is_available()\n",
    "# device = torch.device(\"cuda\" if USE_CUDA else \"cpu\")\n",
    "# print(f\"gpu: {USE_CUDA}\")\n",
    "# model = lr = 5e-5\n",
    "\n",
    "# model = CNNModel(tw=24, num_features=len(features), use_cuda=USE_CUDA).to(device)\n",
    "\n",
    "# lr = 4e-4\n",
    "# n_epochs = 10\n",
    "# criterion = nn.MSELoss().to(device)\n",
    "# optimizer = torch.optim.Adam(model.parameters(), lr=lr)\n",
    "\n",
    "\n",
    "# t_losses, v_losses = [], []\n",
    "\n",
    "# for epoch in range(n_epochs):\n",
    "#     train_loss, val_loss = 0.0, 0.0\n",
    "\n",
    "#     model.train()\n",
    "#     for x, y in train_loader:\n",
    "#         optimizer.zero_grad()\n",
    "\n",
    "#         x = x.to(device)\n",
    "#         y = y.squeeze().to(device)\n",
    "#         #print(f\"x shape: {x.shape}, y shape: {y.shape}\")\n",
    "#         #print(x)\n",
    "#         preds = model(x)#.squeeze()\n",
    "#         #print(f\"preds shape: {preds.shape}\")\n",
    "#         loss = criterion(preds, y)\n",
    "#         train_loss += loss.item()\n",
    "#         loss.backward()\n",
    "#         optimizer.step()\n",
    "#     epoch_loss = train_loss / len(train_loader)\n",
    "#     t_losses.append(epoch_loss)\n",
    "\n",
    "#     # validation\n",
    "#     model.eval()\n",
    "#     for x, y in val_loader:\n",
    "#         with torch.no_grad():\n",
    "#             x = x.to(device)\n",
    "#             y = y.squeeze().to(device)\n",
    "#             preds = model(x).squeeze()\n",
    "#             error = criterion(preds, y)\n",
    "#         val_loss += error.item()\n",
    "#     val_loss = val_loss / len(val_loader)\n",
    "#     v_losses.append(val_loss)\n",
    "\n",
    "#     print(f'{epoch+1} - train: {epoch_loss}, valid: {val_loss}')\n",
    "\n",
    "# plot_losses(t_losses, v_losses)\n"
   ]
  },
  {
   "cell_type": "code",
   "execution_count": 13,
   "metadata": {},
   "outputs": [
    {
     "name": "stdout",
     "output_type": "stream",
     "text": [
      "gpu: True\n"
     ]
    },
    {
     "ename": "AttributeError",
     "evalue": "'collections.OrderedDict' object has no attribute 'eval'",
     "output_type": "error",
     "traceback": [
      "\u001b[0;31m---------------------------------------------------------------------------\u001b[0m",
      "\u001b[0;31mAttributeError\u001b[0m                            Traceback (most recent call last)",
      "\u001b[0;32m<ipython-input-13-1250b92be4b0>\u001b[0m in \u001b[0;36m<module>\u001b[0;34m\u001b[0m\n\u001b[1;32m      5\u001b[0m \u001b[0mdevice\u001b[0m \u001b[0;34m=\u001b[0m \u001b[0mtorch\u001b[0m\u001b[0;34m.\u001b[0m\u001b[0mdevice\u001b[0m\u001b[0;34m(\u001b[0m\u001b[0;34m\"cuda\"\u001b[0m \u001b[0;32mif\u001b[0m \u001b[0mUSE_CUDA\u001b[0m \u001b[0;32melse\u001b[0m \u001b[0;34m\"cpu\"\u001b[0m\u001b[0;34m)\u001b[0m\u001b[0;34m\u001b[0m\u001b[0;34m\u001b[0m\u001b[0m\n\u001b[1;32m      6\u001b[0m \u001b[0mprint\u001b[0m\u001b[0;34m(\u001b[0m\u001b[0;34mf\"gpu: {USE_CUDA}\"\u001b[0m\u001b[0;34m)\u001b[0m\u001b[0;34m\u001b[0m\u001b[0;34m\u001b[0m\u001b[0m\n\u001b[0;32m----> 7\u001b[0;31m \u001b[0mmodel\u001b[0m\u001b[0;34m.\u001b[0m\u001b[0meval\u001b[0m\u001b[0;34m(\u001b[0m\u001b[0;34m)\u001b[0m\u001b[0;34m\u001b[0m\u001b[0;34m\u001b[0m\u001b[0m\n\u001b[0m",
      "\u001b[0;31mAttributeError\u001b[0m: 'collections.OrderedDict' object has no attribute 'eval'"
     ]
    }
   ],
   "source": [
    "# load the model\n",
    "model = torch.load(\"./saved_models/cnn_model.pt\")\n",
    "\n",
    "USE_CUDA = torch.cuda.is_available()\n",
    "device = torch.device(\"cuda\" if USE_CUDA else \"cpu\")\n",
    "print(f\"gpu: {USE_CUDA}\")\n",
    "model.eval()"
   ]
  },
  {
   "cell_type": "code",
   "execution_count": null,
   "metadata": {},
   "outputs": [],
   "source": [
    "def make_predictions_from_dataloader(model, unshuffled_dataloader):\n",
    "  model.eval()\n",
    "  predictions, actuals = [], []\n",
    "  device = next(model.parameters()).device\n",
    "  for x, y in unshuffled_dataloader:\n",
    "    x = x.to(device)\n",
    "    y = y.to(device)\n",
    "    with torch.no_grad():\n",
    "      p = model(x)\n",
    "      predictions.append(p)\n",
    "      actuals.append(y.squeeze())\n",
    "  predictions = torch.cat(predictions).cpu().numpy()\n",
    "  actuals = torch.cat(actuals).cpu().numpy()\n",
    "  return predictions.squeeze(), actuals\n"
   ]
  },
  {
   "cell_type": "code",
   "execution_count": null,
   "metadata": {},
   "outputs": [],
   "source": [
    "preds, actuals = make_predictions_from_dataloader(model, test_loader)"
   ]
  },
  {
   "cell_type": "code",
   "execution_count": null,
   "metadata": {},
   "outputs": [
    {
     "data": {
      "image/png": "[encoded data removed]",
      "text/plain": [
       "<Figure size 864x432 with 1 Axes>"
      ]
     },
     "metadata": {
      "needs_background": "light"
     },
     "output_type": "display_data"
    }
   ],
   "source": [
    "# plot the predictions vs the actuals witht the predictions as an average line\n",
    "window_size = 200\n",
    "\n",
    "# calculate the moving average of the predictions\n",
    "moving_preds = np.convolve(preds, np.ones(window_size)/window_size, mode='valid')\n",
    "\n",
    "# plot the actuals and smoothed predictions\n",
    "plt.figure(figsize=(12, 6))\n",
    "plt.plot(actuals, label='actual')\n",
    "plt.plot(np.arange(window_size-1, len(preds)), moving_preds, label='prediction')\n",
    "plt.legend()\n",
    "plt.show()"
   ]
  },
  {
   "cell_type": "code",
   "execution_count": null,
   "metadata": {},
   "outputs": [],
   "source": [
    "def forecast(dataloader, df_to_plot, batch_num:int=3, fw:int=24):\n",
    "    \"\"\"\n",
    "    fw: forecast window\n",
    "    \"\"\"\n",
    "    predictions = {i: [] for i in range(len(test_loader))}\n",
    "    prev_y_ind = 1 # lag of the consumption\n",
    "    df_start_ind = fw * batch_num # indexes for accessing \n",
    "    df_end_ind = fw * (batch_num + 1)\n",
    "    with torch.no_grad():\n",
    "        for i, data in enumerate(dataloader):\n",
    "            x, y = data\n",
    "            current_input = x.to(device)\n",
    "            \n",
    "            for _ in range(fw):\n",
    "                # Use the current input to make a prediction\n",
    "                prediction = model(current_input)\n",
    "\n",
    "                # Add the prediction to the list of predictions\n",
    "                predictions[i].append(prediction.cpu().numpy())\n",
    "\n",
    "                # delete the first timestep from the input and add the forecast to the end\n",
    "                current_input[:, :-1, prev_y_ind] = current_input[:, 1:, prev_y_ind]\n",
    "                current_input[:, -1, prev_y_ind] = torch.from_numpy(prediction.squeeze().cpu().numpy()).to(device) \n",
    "\n",
    "    targets_to_plot = df_to_plot.iloc[df_start_ind:df_end_ind]['consumption_lead1'].reset_index(drop=True)\n",
    "    preds_to_plot = pd.Series(np.array(predictions[batch_num]).squeeze()[:,0])\n",
    "    res_df = pd.concat([targets_to_plot, preds_to_plot], axis=1)\n",
    "    print(f\"res_df:  {res_df.head()}\")\n",
    "    res_df.rename(columns={\"consumption_lead1\": \"target\",\n",
    "                           0: \"pred\"}, inplace=True)\n",
    "    print(f\"res_df:  {res_df.head()}\")\n",
    "    ## unscale the data\n",
    "    # res_df = res_df * std['consumption_lead1'] + mean['consumption_lead1']\n",
    "    return res_df"
   ]
  },
  {
   "cell_type": "code",
   "execution_count": null,
   "metadata": {},
   "outputs": [],
   "source": [
    "def plot_forecast(test_loader, df_test, mean, std, batch_no, seq_len, fw):\n",
    "    res = forecast(test_loader, df_test, batch_no, fw)\n",
    "    start_ind = seq_len * batch_no\n",
    "    end_ind = start_ind + seq_len + fw\n",
    "    targets_to_plot = df_test.iloc[start_ind:end_ind]['consumption_lead1'].rename('target')\n",
    "    preds_to_plot = res.iloc[:,1]\n",
    "    last_time_ind = targets_to_plot.index[-(fw+1)]\n",
    "    preds_to_plot.index = pd.date_range(start=last_time_ind, periods=fw, freq='H')\n",
    "    res_df = pd.concat([targets_to_plot, preds_to_plot], axis=1)\n",
    "    # unscale the data\n",
    "    res_df = res_df * std['consumption_lead1'] + mean['consumption_lead1']\n",
    "    print(f\"Inside plot:\")\n",
    "    #print(f\"Inside plot: {res_df.head()}\")\n",
    "    # calculate the error\n",
    "    res[\"error\"] = (res[\"target\"] - res[\"pred\"]).abs()\n",
    "    \n",
    "    fig, (ax1, ax2) = plt.subplots(nrows=2, ncols=1, figsize=(12,8))\n",
    "    ax1.plot(res_df.iloc[:,0], label='actual')\n",
    "    ax1.plot(res_df.iloc[:,1], label='pred')\n",
    "    ax1.set_title(\"Forecast\")\n",
    "    ax2.plot(res[\"error\"])\n",
    "    ax2.set_title(\"absolute error\")\n",
    "    ax1.legend()\n",
    "    plt.show()\n",
    "    return res_df"
   ]
  },
  {
   "cell_type": "code",
   "execution_count": null,
   "metadata": {},
   "outputs": [
    {
     "name": "stdout",
     "output_type": "stream",
     "text": [
      "res_df:     consumption_lead1         0\n",
      "0          -0.816471 -0.891438\n",
      "1          -0.835064 -0.906846\n",
      "2          -0.774847 -0.922047\n",
      "3          -0.574003 -0.930326\n",
      "4          -0.326192 -0.925466\n",
      "Inside plot:\n"
     ]
    },
    {
     "data": {
      "image/png": "[encoded data removed]",
      "text/plain": [
       "<Figure size 864x576 with 2 Axes>"
      ]
     },
     "metadata": {
      "needs_background": "light"
     },
     "output_type": "display_data"
    }
   ],
   "source": [
    "# prøv 3, 12, 15 \n",
    "res = plot_forecast(test_loader, df_test, mean, std, 15, 24, 24)"
   ]
  },
  {
   "cell_type": "code",
   "execution_count": null,
   "metadata": {},
   "outputs": [],
   "source": []
  }
 ],
 "metadata": {
  "kernelspec": {
   "display_name": "Python 3",
   "language": "python",
   "name": "python3"
  },
  "language_info": {
   "codemirror_mode": {
    "name": "ipython",
    "version": 3
   },
   "file_extension": ".py",
   "mimetype": "text/x-python",
   "name": "python",
   "nbconvert_exporter": "python",
   "pygments_lexer": "ipython3",
   "version": "3.8.10"
  },
  "orig_nbformat": 4,
  "vscode": {
   "interpreter": {
    "hash": "767d51c1340bd893661ea55ea3124f6de3c7a262a8b4abca0554b478b1e2ff90"
   }
  }
 },
 "nbformat": 4,
 "nbformat_minor": 2
}
