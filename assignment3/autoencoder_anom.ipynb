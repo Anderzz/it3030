{
 "cells": [
  {
   "cell_type": "code",
   "execution_count": 10,
   "metadata": {},
   "outputs": [],
   "source": [
    "from stacked_mnist import *\n",
    "from verification_net import VerificationNet\n",
    "import matplotlib.pyplot as plt\n",
    "import torch\n",
    "import torch.nn as nn\n",
    "from torch.utils.data import DataLoader, Dataset\n",
    "import torch.optim as optim\n",
    "from autoencoder import Autoencoder\n",
    "from util import *"
   ]
  },
  {
   "cell_type": "code",
   "execution_count": 11,
   "metadata": {},
   "outputs": [],
   "source": [
    "# GLOBALS\n",
    "BATCH_SIZE = 1024\n",
    "EPOCHS = 15\n",
    "NUM_CHANNELS = 1"
   ]
  },
  {
   "cell_type": "code",
   "execution_count": 12,
   "metadata": {},
   "outputs": [],
   "source": [
    "_train_data = StackedMNISTData(mode=DataMode.MONO_BINARY_MISSING)\n",
    "_test_data = StackedMNISTData(mode=DataMode.MONO_BINARY_COMPLETE)\n",
    "\n",
    "train_dataset = _train_data.get_full_data_set(training=True)\n",
    "test_dataset = _test_data.get_full_data_set(training=False)"
   ]
  },
  {
   "cell_type": "code",
   "execution_count": 13,
   "metadata": {},
   "outputs": [],
   "source": [
    "class StackedMnistDataset(Dataset):\n",
    "    def __init__(self, data):\n",
    "        self.X = torch.from_numpy(data[0]).float()\n",
    "        self.y = torch.from_numpy(data[1]).float()\n",
    "        # turn them into long tensors\n",
    "        self.y = self.y.long()\n",
    "        \n",
    "\n",
    "    def __len__(self):\n",
    "        return len(self.X)\n",
    "\n",
    "    def __getitem__(self, idx):\n",
    "        return self.X[idx], self.y[idx]"
   ]
  },
  {
   "cell_type": "code",
   "execution_count": 14,
   "metadata": {},
   "outputs": [],
   "source": [
    "stacked_mnist_train = StackedMnistDataset(train_dataset)\n",
    "stacked_mnist_test = StackedMnistDataset(test_dataset)\n",
    "\n",
    "train_loader = DataLoader(stacked_mnist_train, batch_size=32, shuffle=True)\n",
    "test_loader = DataLoader(stacked_mnist_test, batch_size=1, shuffle=False)"
   ]
  },
  {
   "cell_type": "code",
   "execution_count": 15,
   "metadata": {},
   "outputs": [
    {
     "name": "stdout",
     "output_type": "stream",
     "text": [
      "torch.Size([32, 1, 28, 28])\n",
      "torch.Size([32])\n"
     ]
    }
   ],
   "source": [
    "for x, y in train_loader:\n",
    "    # reshape to (batch_size, num_channels, height, width)\n",
    "    x = x.reshape(-1, 1, 28, 28)\n",
    "    print(x.shape)\n",
    "    print(y.shape)\n",
    "    break"
   ]
  },
  {
   "cell_type": "code",
   "execution_count": 16,
   "metadata": {},
   "outputs": [
    {
     "name": "stdout",
     "output_type": "stream",
     "text": [
      "device: cpu\n"
     ]
    },
    {
     "data": {
      "text/plain": [
       "Autoencoder(\n",
       "  (encoder): Sequential(\n",
       "    (0): Conv2d(1, 16, kernel_size=(3, 3), stride=(2, 2), padding=(1, 1))\n",
       "    (1): BatchNorm2d(16, eps=1e-05, momentum=0.1, affine=True, track_running_stats=True)\n",
       "    (2): LeakyReLU(negative_slope=0.2)\n",
       "    (3): Conv2d(16, 32, kernel_size=(3, 3), stride=(2, 2), padding=(1, 1))\n",
       "    (4): BatchNorm2d(32, eps=1e-05, momentum=0.1, affine=True, track_running_stats=True)\n",
       "    (5): LeakyReLU(negative_slope=0.2)\n",
       "    (6): Conv2d(32, 64, kernel_size=(7, 7), stride=(1, 1))\n",
       "    (7): BatchNorm2d(64, eps=1e-05, momentum=0.1, affine=True, track_running_stats=True)\n",
       "    (8): LeakyReLU(negative_slope=0.2)\n",
       "    (9): Flatten(start_dim=1, end_dim=-1)\n",
       "    (10): Linear(in_features=64, out_features=32, bias=True)\n",
       "    (11): BatchNorm1d(32, eps=1e-05, momentum=0.1, affine=True, track_running_stats=True)\n",
       "    (12): LeakyReLU(negative_slope=0.2)\n",
       "    (13): Linear(in_features=32, out_features=16, bias=True)\n",
       "  )\n",
       "  (decoder): Sequential(\n",
       "    (0): Linear(in_features=16, out_features=32, bias=True)\n",
       "    (1): BatchNorm1d(32, eps=1e-05, momentum=0.1, affine=True, track_running_stats=True)\n",
       "    (2): LeakyReLU(negative_slope=0.2)\n",
       "    (3): Linear(in_features=32, out_features=64, bias=True)\n",
       "    (4): BatchNorm1d(64, eps=1e-05, momentum=0.1, affine=True, track_running_stats=True)\n",
       "    (5): LeakyReLU(negative_slope=0.2)\n",
       "    (6): Unflatten(dim=1, unflattened_size=(64, 1, 1))\n",
       "    (7): ConvTranspose2d(64, 32, kernel_size=(7, 7), stride=(1, 1))\n",
       "    (8): BatchNorm2d(32, eps=1e-05, momentum=0.1, affine=True, track_running_stats=True)\n",
       "    (9): LeakyReLU(negative_slope=0.2)\n",
       "    (10): ConvTranspose2d(32, 16, kernel_size=(3, 3), stride=(2, 2), padding=(1, 1), output_padding=(1, 1))\n",
       "    (11): BatchNorm2d(16, eps=1e-05, momentum=0.1, affine=True, track_running_stats=True)\n",
       "    (12): LeakyReLU(negative_slope=0.2)\n",
       "    (13): ConvTranspose2d(16, 1, kernel_size=(3, 3), stride=(2, 2), padding=(1, 1), output_padding=(1, 1))\n",
       "    (14): Sigmoid()\n",
       "  )\n",
       ")"
      ]
     },
     "execution_count": 16,
     "metadata": {},
     "output_type": "execute_result"
    }
   ],
   "source": [
    "device = (\"cuda\" if torch.cuda.is_available() else \"cpu\")\n",
    "print(f\"device: {device}\")\n",
    "model = Autoencoder()\n",
    "criterion = nn.BCELoss()\n",
    "# criterion = nn.MSELoss()\n",
    "optimizer = optim.Adam(model.parameters(), lr=1e-3, weight_decay=1e-5)\n",
    "\n",
    "model.to(device)"
   ]
  },
  {
   "cell_type": "code",
   "execution_count": 17,
   "metadata": {},
   "outputs": [],
   "source": [
    "def train(force_retrain=False):\n",
    "\n",
    "    # try to load the model if it exists and force_retrain is False\n",
    "    if not force_retrain:\n",
    "        try:\n",
    "            checkpoint = torch.load(\"./models/anom_autoencoder.pth\")\n",
    "            model.load_state_dict(checkpoint[\"model_state_dict\"])\n",
    "            optimizer.load_state_dict(checkpoint[\"optimizer_state_dict\"])\n",
    "            start_epoch = checkpoint[\"epoch\"] + 1\n",
    "            print(\"Loaded checkpoint from epoch\", start_epoch)\n",
    "        except:\n",
    "            start_epoch = 0\n",
    "            print(\"Starting from scratch\")\n",
    "    else:\n",
    "        start_epoch = 0\n",
    "        print(\"Starting from scratch (forced retrain)\")\n",
    "\n",
    "    # train the model\n",
    "    outputs = []\n",
    "    model.train()\n",
    "    for epoch in range(start_epoch, EPOCHS):\n",
    "        for im, _ in train_loader:\n",
    "            num_channels = im.shape[-1]\n",
    "            im = im.reshape(-1, num_channels, 28, 28)\n",
    "            im = im.to(device)\n",
    "            # ===================forward=====================\n",
    "            output = model(im)\n",
    "            output = output.squeeze().reshape(-1, num_channels, 28, 28)\n",
    "            loss = criterion(output, im)\n",
    "            # ===================backward====================\n",
    "            optimizer.zero_grad()\n",
    "            loss.backward()\n",
    "            optimizer.step()\n",
    "        # ===================log========================\n",
    "        print('epoch [{}/{}], loss:{:.4f}'.format(epoch + 1, EPOCHS, loss.item()))\n",
    "        outputs.append((epoch, im, output))\n",
    "\n",
    "    # save the model\n",
    "    checkpoint = {\n",
    "        \"epoch\": EPOCHS,\n",
    "        \"model_state_dict\": model.state_dict(),\n",
    "        \"optimizer_state_dict\": optimizer.state_dict(),\n",
    "    }\n",
    "    torch.save(checkpoint, \"./models/anom_autoencoder.pth\")\n",
    "\n",
    "    return outputs"
   ]
  },
  {
   "cell_type": "code",
   "execution_count": 18,
   "metadata": {},
   "outputs": [
    {
     "name": "stdout",
     "output_type": "stream",
     "text": [
      "Starting from scratch (forced retrain)\n",
      "epoch [1/2], loss:0.1745\n",
      "epoch [2/2], loss:0.1481\n"
     ]
    }
   ],
   "source": [
    "train_outputs = train(force_retrain=True)"
   ]
  },
  {
   "cell_type": "code",
   "execution_count": 19,
   "metadata": {},
   "outputs": [
    {
     "data": {
      "image/png": "[encoded data removed]",
      "text/plain": [
       "<Figure size 648x144 with 10 Axes>"
      ]
     },
     "metadata": {
      "needs_background": "light"
     },
     "output_type": "display_data"
    }
   ],
   "source": [
    "if train_outputs:\n",
    "    for k in range(0, EPOCHS, 4):\n",
    "        plt.figure(figsize=(9, 2))\n",
    "        plt.gray()\n",
    "\n",
    "        imgs = train_outputs[k][1].detach().cpu().numpy()\n",
    "        recon = train_outputs[k][2].detach().cpu().numpy()\n",
    "\n",
    "        for i, item in enumerate(imgs):\n",
    "            if i >= 9:\n",
    "                break\n",
    "            plt.subplot(2, 9, i + 1)\n",
    "            plt.imshow(item[0])\n",
    "\n",
    "        for i, item in enumerate(recon):\n",
    "            if i >= 9:\n",
    "                break\n",
    "            plt.subplot(2, 9, 9 + i + 1)\n",
    "            plt.imshow(item[0])"
   ]
  },
  {
   "cell_type": "code",
   "execution_count": 27,
   "metadata": {},
   "outputs": [
    {
     "data": {
      "text/plain": [
       "Text(0, 0.5, 'Count')"
      ]
     },
     "execution_count": 27,
     "metadata": {},
     "output_type": "execute_result"
    },
    {
     "data": {
      "image/png": "[encoded data removed]",
      "text/plain": [
       "<Figure size 432x288 with 1 Axes>"
      ]
     },
     "metadata": {
      "needs_background": "light"
     },
     "output_type": "display_data"
    }
   ],
   "source": [
    "# do anomaly detection\n",
    "model.eval()\n",
    "anom_scores = []\n",
    "for i, data in enumerate(test_loader):\n",
    "    img, _ = data\n",
    "    num_channels = img.shape[-1]\n",
    "    img = img.reshape(-1, num_channels, 28, 28)\n",
    "    img = img.to(device)\n",
    "    output = model(img)\n",
    "    output = output.squeeze().reshape(-1, num_channels, 28, 28)\n",
    "    loss = criterion(output, img)\n",
    "    anom_scores.append(loss.item())\n",
    "\n",
    "# plot the anomaly scores\n",
    "plt.figure()\n",
    "plt.hist(anom_scores, bins=20)\n",
    "plt.title(\"Histogram of anomaly scores\")\n",
    "plt.xlabel(\"Anomaly score\")\n",
    "plt.ylabel(\"Count\")"
   ]
  },
  {
   "cell_type": "code",
   "execution_count": 28,
   "metadata": {},
   "outputs": [
    {
     "data": {
      "image/png": "[encoded data removed]",
      "text/plain": [
       "<Figure size 1440x288 with 10 Axes>"
      ]
     },
     "metadata": {
      "needs_background": "light"
     },
     "output_type": "display_data"
    }
   ],
   "source": [
    "max_error_indexes = np.argsort(anom_scores)[::-1]\n",
    "worst_10 = max_error_indexes[:10]\n",
    "\n",
    "# plot the worst 10\n",
    "plt.figure(figsize=(20, 4))\n",
    "for i, index in enumerate(worst_10):\n",
    "    plt.subplot(1, 10, i + 1)\n",
    "    plt.imshow(test_dataset[0][index].reshape(28, 28), cmap=\"gray\")\n",
    "    plt.title(f\"{anom_scores[index]:.2f}\")\n",
    "    plt.axis(\"off\")\n"
   ]
  },
  {
   "cell_type": "code",
   "execution_count": null,
   "metadata": {},
   "outputs": [],
   "source": []
  }
 ],
 "metadata": {
  "kernelspec": {
   "display_name": "Python 3",
   "language": "python",
   "name": "python3"
  },
  "language_info": {
   "codemirror_mode": {
    "name": "ipython",
    "version": 3
   },
   "file_extension": ".py",
   "mimetype": "text/x-python",
   "name": "python",
   "nbconvert_exporter": "python",
   "pygments_lexer": "ipython3",
   "version": "3.9.7"
  },
  "orig_nbformat": 4,
  "vscode": {
   "interpreter": {
    "hash": "81794d4967e6c3204c66dcd87b604927b115b27c00565d3d43f05ba2f3a2cb0d"
   }
  }
 },
 "nbformat": 4,
 "nbformat_minor": 2
}
