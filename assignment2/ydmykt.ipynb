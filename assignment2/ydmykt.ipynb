{
 "cells": [
  {
   "cell_type": "code",
   "execution_count": 26,
   "metadata": {},
   "outputs": [],
   "source": [
    "import pandas as pd\n",
    "import numpy as np\n",
    "import matplotlib.pyplot as plt\n",
    "import plotly.graph_objects as go\n",
    "import torch\n",
    "import torch.nn as nn\n",
    "from torch.utils.data import Dataset, DataLoader, random_split\n",
    "from data_reader import read_consumption_and_weather\n",
    "from sklearn.preprocessing import MinMaxScaler"
   ]
  },
  {
   "cell_type": "code",
   "execution_count": 27,
   "metadata": {},
   "outputs": [],
   "source": [
    "def plot_losses(tr, va):\n",
    "  import matplotlib.pyplot as plt\n",
    "  fig, ax = plt.subplots()\n",
    "  ax.plot(tr, label='train')\n",
    "  ax.plot(va, label='validation')\n",
    "  ax.legend()\n",
    "  plt.show()"
   ]
  },
  {
   "cell_type": "code",
   "execution_count": 28,
   "metadata": {},
   "outputs": [
    {
     "data": {
      "text/html": [
       "<div>\n",
       "<style scoped>\n",
       "    .dataframe tbody tr th:only-of-type {\n",
       "        vertical-align: middle;\n",
       "    }\n",
       "\n",
       "    .dataframe tbody tr th {\n",
       "        vertical-align: top;\n",
       "    }\n",
       "\n",
       "    .dataframe thead th {\n",
       "        text-align: right;\n",
       "    }\n",
       "</style>\n",
       "<table border=\"1\" class=\"dataframe\">\n",
       "  <thead>\n",
       "    <tr style=\"text-align: right;\">\n",
       "      <th></th>\n",
       "      <th>consumption</th>\n",
       "    </tr>\n",
       "  </thead>\n",
       "  <tbody>\n",
       "    <tr>\n",
       "      <th>2017-05-01 00:00:00+00:00</th>\n",
       "      <td>3325.431995</td>\n",
       "    </tr>\n",
       "    <tr>\n",
       "      <th>2017-05-01 01:00:00+00:00</th>\n",
       "      <td>3344.690998</td>\n",
       "    </tr>\n",
       "    <tr>\n",
       "      <th>2017-05-01 02:00:00+00:00</th>\n",
       "      <td>3398.359002</td>\n",
       "    </tr>\n",
       "    <tr>\n",
       "      <th>2017-05-01 03:00:00+00:00</th>\n",
       "      <td>3430.220001</td>\n",
       "    </tr>\n",
       "    <tr>\n",
       "      <th>2017-05-01 04:00:00+00:00</th>\n",
       "      <td>3606.750000</td>\n",
       "    </tr>\n",
       "  </tbody>\n",
       "</table>\n",
       "</div>"
      ],
      "text/plain": [
       "                           consumption\n",
       "2017-05-01 00:00:00+00:00  3325.431995\n",
       "2017-05-01 01:00:00+00:00  3344.690998\n",
       "2017-05-01 02:00:00+00:00  3398.359002\n",
       "2017-05-01 03:00:00+00:00  3430.220001\n",
       "2017-05-01 04:00:00+00:00  3606.750000"
      ]
     },
     "execution_count": 28,
     "metadata": {},
     "output_type": "execute_result"
    }
   ],
   "source": [
    "df = pd.read_csv('data/clean.csv', index_col=0)\n",
    "df.index = pd.to_datetime(df.index)\n",
    "df = df[['region', 'temperature', 'consumption']]\n",
    "df = df[[ 'consumption']]\n",
    "df.head()"
   ]
  },
  {
   "cell_type": "code",
   "execution_count": 29,
   "metadata": {},
   "outputs": [
    {
     "data": {
      "text/html": [
       "<div>\n",
       "<style scoped>\n",
       "    .dataframe tbody tr th:only-of-type {\n",
       "        vertical-align: middle;\n",
       "    }\n",
       "\n",
       "    .dataframe tbody tr th {\n",
       "        vertical-align: top;\n",
       "    }\n",
       "\n",
       "    .dataframe thead th {\n",
       "        text-align: right;\n",
       "    }\n",
       "</style>\n",
       "<table border=\"1\" class=\"dataframe\">\n",
       "  <thead>\n",
       "    <tr style=\"text-align: right;\">\n",
       "      <th></th>\n",
       "      <th>consumption</th>\n",
       "    </tr>\n",
       "  </thead>\n",
       "  <tbody>\n",
       "    <tr>\n",
       "      <th>2017-05-01 00:00:00+00:00</th>\n",
       "      <td>-0.326711</td>\n",
       "    </tr>\n",
       "    <tr>\n",
       "      <th>2017-05-01 01:00:00+00:00</th>\n",
       "      <td>-0.321160</td>\n",
       "    </tr>\n",
       "    <tr>\n",
       "      <th>2017-05-01 02:00:00+00:00</th>\n",
       "      <td>-0.305693</td>\n",
       "    </tr>\n",
       "    <tr>\n",
       "      <th>2017-05-01 03:00:00+00:00</th>\n",
       "      <td>-0.296510</td>\n",
       "    </tr>\n",
       "    <tr>\n",
       "      <th>2017-05-01 04:00:00+00:00</th>\n",
       "      <td>-0.245632</td>\n",
       "    </tr>\n",
       "    <tr>\n",
       "      <th>2017-05-01 05:00:00+00:00</th>\n",
       "      <td>-0.207263</td>\n",
       "    </tr>\n",
       "    <tr>\n",
       "      <th>2017-05-01 06:00:00+00:00</th>\n",
       "      <td>-0.174739</td>\n",
       "    </tr>\n",
       "    <tr>\n",
       "      <th>2017-05-01 07:00:00+00:00</th>\n",
       "      <td>-0.141355</td>\n",
       "    </tr>\n",
       "    <tr>\n",
       "      <th>2017-05-01 08:00:00+00:00</th>\n",
       "      <td>-0.128906</td>\n",
       "    </tr>\n",
       "    <tr>\n",
       "      <th>2017-05-01 09:00:00+00:00</th>\n",
       "      <td>-0.150736</td>\n",
       "    </tr>\n",
       "    <tr>\n",
       "      <th>2017-05-01 10:00:00+00:00</th>\n",
       "      <td>-0.186379</td>\n",
       "    </tr>\n",
       "  </tbody>\n",
       "</table>\n",
       "</div>"
      ],
      "text/plain": [
       "                           consumption\n",
       "2017-05-01 00:00:00+00:00    -0.326711\n",
       "2017-05-01 01:00:00+00:00    -0.321160\n",
       "2017-05-01 02:00:00+00:00    -0.305693\n",
       "2017-05-01 03:00:00+00:00    -0.296510\n",
       "2017-05-01 04:00:00+00:00    -0.245632\n",
       "2017-05-01 05:00:00+00:00    -0.207263\n",
       "2017-05-01 06:00:00+00:00    -0.174739\n",
       "2017-05-01 07:00:00+00:00    -0.141355\n",
       "2017-05-01 08:00:00+00:00    -0.128906\n",
       "2017-05-01 09:00:00+00:00    -0.150736\n",
       "2017-05-01 10:00:00+00:00    -0.186379"
      ]
     },
     "execution_count": 29,
     "metadata": {},
     "output_type": "execute_result"
    }
   ],
   "source": [
    "scaler = MinMaxScaler(feature_range=(-1, 1))\n",
    "# scale temperature and consumption\n",
    "#df[['temperature', 'consumption']] = scaler.fit_transform(df[['temperature', 'consumption']])\n",
    "df[['consumption']] = scaler.fit_transform(df[['consumption']])\n",
    "df.head(11)"
   ]
  },
  {
   "cell_type": "code",
   "execution_count": 30,
   "metadata": {},
   "outputs": [],
   "source": [
    "# Defining a function that creates sequences and targets as shown above\n",
    "def generate_sequences(df: pd.DataFrame, tw: int, pw: int, target_columns, drop_targets=False):\n",
    "  '''\n",
    "  df: Pandas DataFrame of the univariate time-series\n",
    "  tw: Training Window - Integer defining how many steps to look back\n",
    "  pw: Prediction Window - Integer defining how many steps forward to predict\n",
    "\n",
    "  returns: dictionary of sequences and targets for all sequences\n",
    "  '''\n",
    "  data = dict() # Store results into a dictionary\n",
    "  L = len(df)\n",
    "  for i in range(L-tw):\n",
    "    # Option to drop target from dataframe\n",
    "    if drop_targets:\n",
    "      df.drop(target_columns, axis=1, inplace=True)\n",
    "\n",
    "    # Get current sequence  \n",
    "    sequence = df[i:i+tw].values\n",
    "    # Get values right after the current sequence\n",
    "    target = df[i+tw:i+tw+pw][target_columns].values\n",
    "    data[i] = {'sequence': sequence, 'target': target}\n",
    "  return data"
   ]
  },
  {
   "cell_type": "code",
   "execution_count": 31,
   "metadata": {},
   "outputs": [],
   "source": [
    "class SequenceDataset(Dataset):\n",
    "\n",
    "  def __init__(self, df):\n",
    "    self.data = df\n",
    "\n",
    "  def __getitem__(self, idx):\n",
    "    sample = self.data[idx]\n",
    "    return torch.Tensor(sample['sequence']), torch.Tensor(sample['target'])\n",
    "  \n",
    "  def __len__(self):\n",
    "    return len(self.data)"
   ]
  },
  {
   "cell_type": "code",
   "execution_count": 32,
   "metadata": {},
   "outputs": [],
   "source": [
    "BATCH_SIZE = 16\n",
    "sequence_len = 24\n",
    "split = 0.8\n",
    "n_out = 1\n",
    "\n",
    "sequences = generate_sequences(df, sequence_len, n_out, 'consumption')\n",
    "dataset = SequenceDataset(sequences)"
   ]
  },
  {
   "cell_type": "code",
   "execution_count": 33,
   "metadata": {},
   "outputs": [
    {
     "data": {
      "text/plain": [
       "{'sequence': array([[-0.326711  ],\n",
       "        [-0.32116031],\n",
       "        [-0.30569252],\n",
       "        [-0.29650978],\n",
       "        [-0.24563163],\n",
       "        [-0.20726277],\n",
       "        [-0.17473943],\n",
       "        [-0.14135491],\n",
       "        [-0.12890557],\n",
       "        [-0.15073594],\n",
       "        [-0.18637918],\n",
       "        [-0.221233  ],\n",
       "        [-0.25224524],\n",
       "        [-0.27666405],\n",
       "        [-0.29129054],\n",
       "        [-0.30060211],\n",
       "        [-0.30711773],\n",
       "        [-0.30345974],\n",
       "        [-0.28333415],\n",
       "        [-0.24211342],\n",
       "        [-0.24590025],\n",
       "        [-0.28638805],\n",
       "        [-0.32832902],\n",
       "        [-0.35635653]]),\n",
       " 'target': array([-0.35997187])}"
      ]
     },
     "execution_count": 33,
     "metadata": {},
     "output_type": "execute_result"
    }
   ],
   "source": [
    "sequences[0]"
   ]
  },
  {
   "cell_type": "code",
   "execution_count": 34,
   "metadata": {},
   "outputs": [],
   "source": [
    "\n",
    "train_len = int(len(dataset)*split)\n",
    "lens = [train_len, len(dataset)-train_len]\n",
    "train_ds, test_ds = random_split(dataset, lens)\n",
    "trainloader = DataLoader(train_ds, batch_size=BATCH_SIZE, shuffle=True, drop_last=True)\n",
    "testloader = DataLoader(test_ds, batch_size=BATCH_SIZE, shuffle=True, drop_last=True)"
   ]
  },
  {
   "cell_type": "code",
   "execution_count": 35,
   "metadata": {},
   "outputs": [
    {
     "data": {
      "text/plain": [
       "(torch.Size([16, 24, 1]), torch.Size([16, 1]))"
      ]
     },
     "execution_count": 35,
     "metadata": {},
     "output_type": "execute_result"
    }
   ],
   "source": [
    "x, y = next(iter(trainloader))\n",
    "x.shape, y.shape"
   ]
  },
  {
   "cell_type": "code",
   "execution_count": 36,
   "metadata": {},
   "outputs": [],
   "source": [
    "class LSTMForecaster(nn.Module):\n",
    "\n",
    "\n",
    "  def __init__(self, n_features, n_hidden, n_outputs, sequence_len, n_lstm_layers=1, n_deep_layers=10, use_cuda=False, dropout=0.2):\n",
    "    '''\n",
    "    n_features: number of input features (1 for univariate forecasting)\n",
    "    n_hidden: number of neurons in each hidden layer\n",
    "    n_outputs: number of outputs to predict for each training example\n",
    "    n_deep_layers: number of hidden dense layers after the lstm layer\n",
    "    sequence_len: number of steps to look back at for prediction\n",
    "    dropout: float (0 < dropout < 1) dropout ratio between dense layers\n",
    "    '''\n",
    "    super().__init__()\n",
    "\n",
    "    self.n_lstm_layers = n_lstm_layers\n",
    "    self.nhid = n_hidden\n",
    "    self.use_cuda = use_cuda # set option for device selection\n",
    "\n",
    "    # LSTM Layer\n",
    "    self.lstm = nn.LSTM(n_features,\n",
    "                        n_hidden,\n",
    "                        num_layers=n_lstm_layers,\n",
    "                        batch_first=True) # As we have transformed our data in this way\n",
    "    \n",
    "    # first dense after lstm\n",
    "    self.fc1 = nn.Linear(n_hidden * sequence_len, n_hidden) \n",
    "    # Dropout layer \n",
    "    self.dropout = nn.Dropout(p=dropout)\n",
    "\n",
    "    # Create fully connected layers (n_hidden x n_deep_layers)\n",
    "    dnn_layers = []\n",
    "    for i in range(n_deep_layers):\n",
    "      # Last layer (n_hidden x n_outputs)\n",
    "      if i == n_deep_layers - 1:\n",
    "        dnn_layers.append(nn.ReLU())\n",
    "        dnn_layers.append(nn.Linear(nhid, n_outputs))\n",
    "      # All other layers (n_hidden x n_hidden) with dropout option\n",
    "      else:\n",
    "        dnn_layers.append(nn.ReLU())\n",
    "        dnn_layers.append(nn.Linear(nhid, nhid))\n",
    "        if dropout:\n",
    "          dnn_layers.append(nn.Dropout(p=dropout))\n",
    "    # compile DNN layers\n",
    "    self.dnn = nn.Sequential(*dnn_layers)\n",
    "\n",
    "  def forward(self, x):\n",
    "\n",
    "    # Initialize hidden state\n",
    "    hidden_state = torch.zeros(self.n_lstm_layers, x.shape[0], self.nhid)\n",
    "    cell_state = torch.zeros(self.n_lstm_layers, x.shape[0], self.nhid)\n",
    "\n",
    "    # move hidden state to device\n",
    "    if self.use_cuda:\n",
    "      hidden_state = hidden_state.to(device)\n",
    "      cell_state = cell_state.to(device)\n",
    "        \n",
    "    self.hidden = (hidden_state, cell_state)\n",
    "\n",
    "    # Forward Pass\n",
    "    x, h = self.lstm(x, self.hidden) # LSTM\n",
    "    x = self.dropout(x.contiguous().view(x.shape[0], -1)) # Flatten lstm out \n",
    "    x = self.fc1(x) # First Dense\n",
    "    return self.dnn(x) # Pass forward through fully connected DNN."
   ]
  },
  {
   "cell_type": "code",
   "execution_count": 124,
   "metadata": {},
   "outputs": [],
   "source": [
    "nhid = 50\n",
    "n_dnn_layers = 2\n",
    "ninp = 1\n",
    "USE_CUDA = torch.cuda.is_available()\n",
    "device = 'cuda' if USE_CUDA else 'cpu'\n",
    "lr = 4e-4\n",
    "n_epochs = 5\n",
    "\n",
    "model = LSTMForecaster(ninp, nhid, n_out, sequence_len, n_deep_layers=n_dnn_layers, use_cuda=USE_CUDA).to(device)\n",
    "criterion = nn.MSELoss().to(device)\n",
    "optimizer = torch.optim.AdamW(model.parameters(), lr=lr)"
   ]
  },
  {
   "cell_type": "code",
   "execution_count": 125,
   "metadata": {},
   "outputs": [
    {
     "name": "stdout",
     "output_type": "stream",
     "text": [
      "0 - train: 0.003958806545762123, valid: 0.00038661340070528856\n",
      "1 - train: 0.002003923619150479, valid: 0.00030359353347156576\n",
      "2 - train: 0.0018253480665000996, valid: 0.00046195572752529365\n",
      "3 - train: 0.00174750282112727, valid: 0.0002764951271366671\n",
      "4 - train: 0.0016684682274272524, valid: 0.0002128348657128607\n"
     ]
    },
    {
     "data": {
      "image/png": "[encoded data removed]",
      "text/plain": [
       "<Figure size 640x480 with 1 Axes>"
      ]
     },
     "metadata": {},
     "output_type": "display_data"
    }
   ],
   "source": [
    "t_losses, v_losses = [], []\n",
    "\n",
    "best_loss = float('inf')\n",
    "last_improvement = 0\n",
    "patience = 2\n",
    "\n",
    "for epoch in range(n_epochs):\n",
    "  train_loss, valid_loss = 0.0, 0.0\n",
    "\n",
    "  # train step\n",
    "  model.train()\n",
    "  for x, y in trainloader:\n",
    "    optimizer.zero_grad()\n",
    "    x = x.to(device)\n",
    "    y  = y.squeeze().to(device)\n",
    "    # Forward Pass\n",
    "    preds = model(x).squeeze()\n",
    "    \n",
    "    loss = criterion(preds, y)\n",
    "    train_loss += loss.item()\n",
    "    loss.backward()\n",
    "    optimizer.step()\n",
    "  epoch_loss = train_loss / len(trainloader)\n",
    "  t_losses.append(epoch_loss)\n",
    "  \n",
    "  # validation step\n",
    "  model.eval()\n",
    "  for x, y in testloader:\n",
    "    with torch.no_grad():\n",
    "      x, y = x.to(device), y.squeeze().to(device)\n",
    "      preds = model(x).squeeze()\n",
    "      error = criterion(preds, y)\n",
    "    valid_loss += error.item()\n",
    "  valid_loss = valid_loss / len(testloader)\n",
    "  v_losses.append(valid_loss)\n",
    "\n",
    "  if valid_loss < best_loss:\n",
    "        best_loss = valid_loss\n",
    "        torch.save(model.state_dict(), 'best_model.pt')\n",
    "        last_improvement = epoch\n",
    "  elif epoch - last_improvement > patience:\n",
    "      print(\"Validation loss hasn't improved in {} epochs, stopping training\".format(patience))\n",
    "      break\n",
    "      \n",
    "  print(f'{epoch} - train: {epoch_loss}, valid: {valid_loss}')\n",
    "plot_losses(t_losses, v_losses)"
   ]
  },
  {
   "cell_type": "code",
   "execution_count": 126,
   "metadata": {},
   "outputs": [],
   "source": [
    "def make_predictions_from_dataloader(model, dataloader):\n",
    "  model.eval()\n",
    "  predictions, actuals = [], []\n",
    "  for x, y in dataloader:\n",
    "    x = x.to(device)\n",
    "    with torch.no_grad():\n",
    "      p = model(x)\n",
    "      predictions.append(p)\n",
    "      actuals.append(y.squeeze())\n",
    "  predictions = torch.cat(predictions).cpu().numpy()\n",
    "  actuals = torch.cat(actuals).numpy()\n",
    "  return predictions.squeeze(), actuals"
   ]
  },
  {
   "cell_type": "code",
   "execution_count": 127,
   "metadata": {},
   "outputs": [
    {
     "data": {
      "text/plain": [
       "((251008,), (251008,))"
      ]
     },
     "execution_count": 127,
     "metadata": {},
     "output_type": "execute_result"
    }
   ],
   "source": [
    "unshuffled_dataloader = DataLoader(dataset, batch_size=BATCH_SIZE, shuffle=False, drop_last=True)\n",
    "P, Y = make_predictions_from_dataloader(model, unshuffled_dataloader)\n",
    "P.shape, Y.shape"
   ]
  },
  {
   "cell_type": "code",
   "execution_count": 128,
   "metadata": {},
   "outputs": [],
   "source": [
    "# import plotly.express as px\n",
    "# pdf = pd.DataFrame([P, Y], index=['predictions', 'actuals']).T\n",
    "\n",
    "# fig = px.line(pdf)\n",
    "# fig.update_layout(\n",
    "#     autosize=False,\n",
    "#     width=2400,\n",
    "#     height=800,)\n",
    "# fig.show()"
   ]
  },
  {
   "cell_type": "code",
   "execution_count": 129,
   "metadata": {},
   "outputs": [],
   "source": [
    "import torch\n",
    "import plotly.graph_objects as go\n",
    "\n",
    "class Forecaster:\n",
    "\n",
    "  def __init__(self, model, data, target, tw):\n",
    "    if USE_CUDA:\n",
    "      self.model = model.to('cuda')\n",
    "    else:\n",
    "      self.model = model\n",
    "    self.data = data\n",
    "    self.tw = tw\n",
    "    self.target = target\n",
    "\n",
    "  def plot_forecast(self, history):\n",
    "    fig = go.Figure()\n",
    "    # Add traces\n",
    "    fig.add_trace(go.Scatter(x=history.index, y=history.actual,\n",
    "                        mode='lines',\n",
    "                        name='actual'))\n",
    "    fig.add_trace(go.Scatter(x=history.index, y=history.forecast,\n",
    "                        mode='lines',\n",
    "                        name='forecast'))\n",
    "    fig.update_layout(\n",
    "    autosize=False,\n",
    "    width=2400,\n",
    "    height=800,)\n",
    "    fig.show()\n",
    "  \n",
    "  def one_step_forecast(self, history):\n",
    "      '''\n",
    "      history: a sequence of values representing the latest values of the time \n",
    "      series, requirement -> len(history.shape) == 2\n",
    "\n",
    "      outputs a single value which is the prediction of the next value in the\n",
    "      sequence.\n",
    "      '''\n",
    "      self.model.eval()\n",
    "      with torch.no_grad():\n",
    "        pre = torch.Tensor(history).unsqueeze(0)\n",
    "        #device = next(self.model.parameters()).device  # get device from model parameters\n",
    "        pre = pre.to(device)  # move input tensor to same device as model\n",
    "        pred = self.model(pre)\n",
    "      return pred.detach().cpu().numpy().reshape(-1)\n",
    "\n",
    "  def n_step_forecast(self, n: int, forecast_from: int=None, plot=False):\n",
    "      '''\n",
    "      n: integer defining how many steps to forecast\n",
    "      forecast_from: integer defining which index to forecast from. None if\n",
    "      you want to forecast from the end.\n",
    "      plot: True if you want to output a plot of the forecast, False if not.\n",
    "      '''\n",
    "      history = self.data[self.target].to_frame()\n",
    "      \n",
    "      # Create initial sequence input based on where in the series to forecast \n",
    "      # from.\n",
    "      if forecast_from:\n",
    "        pre = list(history[forecast_from - self.tw : forecast_from][self.target].values)\n",
    "      else:\n",
    "        pre = list(history[self.target])[-self.tw:]\n",
    "\n",
    "      # Call one_step_forecast n times and append prediction to history\n",
    "      for i, step in enumerate(range(n)):\n",
    "        pre_ = np.array(pre[-self.tw:]).reshape(-1, 1)\n",
    "        forecast = self.one_step_forecast(pre_).squeeze()\n",
    "        pre.append(forecast)\n",
    "\n",
    "      res = history.copy()\n",
    "      ls = [np.nan for i in range(len(history))]\n",
    "\n",
    "      # Note: I have not handled the edge case where the start index + n crosses\n",
    "      # the end of the dataset\n",
    "      if forecast_from:\n",
    "        ls[forecast_from : forecast_from + n] = list(np.array(pre[-n:]))\n",
    "        res['forecast'] = ls\n",
    "        res.columns = ['actual', 'forecast']\n",
    "      else:\n",
    "        fc = ls + list(np.array(pre[-n:]))\n",
    "        ls = ls + [np.nan for i in range(len(pre[-n:]))]\n",
    "        ls[:len(history)] = history[self.target].values\n",
    "        res = pd.DataFrame([ls, fc], index=['actual', 'forecast']).T\n",
    "\n",
    "      if plot:\n",
    "        self.plot_forecast(res)\n",
    "      return res\n"
   ]
  },
  {
   "cell_type": "code",
   "execution_count": 130,
   "metadata": {},
   "outputs": [],
   "source": [
    "fc = Forecaster(model, df, 'consumption', 24)"
   ]
  },
  {
   "cell_type": "code",
   "execution_count": 131,
   "metadata": {},
   "outputs": [],
   "source": [
    "history = fc.n_step_forecast(n=24, forecast_from=df.__len__()-1000, plot=False)"
   ]
  },
  {
   "cell_type": "code",
   "execution_count": 132,
   "metadata": {},
   "outputs": [
    {
     "data": {
      "text/plain": [
       "actual           0\n",
       "forecast    251016\n",
       "dtype: int64"
      ]
     },
     "execution_count": 132,
     "metadata": {},
     "output_type": "execute_result"
    }
   ],
   "source": [
    "history.isna().sum()"
   ]
  },
  {
   "cell_type": "code",
   "execution_count": 133,
   "metadata": {},
   "outputs": [],
   "source": [
    "# remove duplicates from history\n",
    "#history = history[~history.index.duplicated(keep='first')]"
   ]
  },
  {
   "cell_type": "code",
   "execution_count": 134,
   "metadata": {},
   "outputs": [
    {
     "data": {
      "text/plain": [
       "<Axes: >"
      ]
     },
     "execution_count": 134,
     "metadata": {},
     "output_type": "execute_result"
    },
    {
     "data": {
      "image/png": "[encoded data removed]",
      "text/plain": [
       "<Figure size 640x480 with 1 Axes>"
      ]
     },
     "metadata": {},
     "output_type": "display_data"
    }
   ],
   "source": [
    "# plot the last 96 hours\n",
    "history[-1100:-900].plot()"
   ]
  },
  {
   "cell_type": "code",
   "execution_count": null,
   "metadata": {},
   "outputs": [],
   "source": []
  },
  {
   "cell_type": "code",
   "execution_count": null,
   "metadata": {},
   "outputs": [],
   "source": []
  }
 ],
 "metadata": {
  "kernelspec": {
   "display_name": "env",
   "language": "python",
   "name": "python3"
  },
  "language_info": {
   "codemirror_mode": {
    "name": "ipython",
    "version": 3
   },
   "file_extension": ".py",
   "mimetype": "text/x-python",
   "name": "python",
   "nbconvert_exporter": "python",
   "pygments_lexer": "ipython3",
   "version": "3.10.8"
  },
  "orig_nbformat": 4
 },
 "nbformat": 4,
 "nbformat_minor": 2
}
