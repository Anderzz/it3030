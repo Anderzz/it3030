{
 "cells": [
  {
   "cell_type": "code",
   "execution_count": 19,
   "metadata": {},
   "outputs": [],
   "source": [
    "import pandas as pd\n",
    "import numpy as np\n",
    "import matplotlib.pyplot as plt\n",
    "import seaborn as sns"
   ]
  },
  {
   "cell_type": "code",
   "execution_count": 20,
   "metadata": {},
   "outputs": [],
   "source": [
    "train = pd.read_csv('data/train.csv')"
   ]
  },
  {
   "cell_type": "code",
   "execution_count": 21,
   "metadata": {},
   "outputs": [
    {
     "data": {
      "text/html": [
       "<div>\n",
       "<style scoped>\n",
       "    .dataframe tbody tr th:only-of-type {\n",
       "        vertical-align: middle;\n",
       "    }\n",
       "\n",
       "    .dataframe tbody tr th {\n",
       "        vertical-align: top;\n",
       "    }\n",
       "\n",
       "    .dataframe thead th {\n",
       "        text-align: right;\n",
       "    }\n",
       "</style>\n",
       "<table border=\"1\" class=\"dataframe\">\n",
       "  <thead>\n",
       "    <tr style=\"text-align: right;\">\n",
       "      <th></th>\n",
       "      <th>consumption</th>\n",
       "      <th>temperature</th>\n",
       "      <th>region</th>\n",
       "      <th>time_of_day</th>\n",
       "      <th>time_of_week</th>\n",
       "      <th>time_of_month</th>\n",
       "      <th>time_of_year</th>\n",
       "      <th>consumption_24h_lag</th>\n",
       "      <th>consumption_yday_mean</th>\n",
       "      <th>consumption_prev</th>\n",
       "    </tr>\n",
       "  </thead>\n",
       "  <tbody>\n",
       "    <tr>\n",
       "      <th>0</th>\n",
       "      <td>-0.186697</td>\n",
       "      <td>-0.677146</td>\n",
       "      <td>-1.248075</td>\n",
       "      <td>-1.661325</td>\n",
       "      <td>-1.499309</td>\n",
       "      <td>-1.668938</td>\n",
       "      <td>-0.493731</td>\n",
       "      <td>-0.186806</td>\n",
       "      <td>0.033016</td>\n",
       "      <td>-0.186703</td>\n",
       "    </tr>\n",
       "    <tr>\n",
       "      <th>1</th>\n",
       "      <td>-0.169147</td>\n",
       "      <td>-0.544460</td>\n",
       "      <td>-1.248075</td>\n",
       "      <td>-1.516862</td>\n",
       "      <td>-1.499309</td>\n",
       "      <td>-1.668938</td>\n",
       "      <td>-0.493731</td>\n",
       "      <td>-0.186806</td>\n",
       "      <td>0.033016</td>\n",
       "      <td>-0.186703</td>\n",
       "    </tr>\n",
       "    <tr>\n",
       "      <th>2</th>\n",
       "      <td>-0.120239</td>\n",
       "      <td>-0.438311</td>\n",
       "      <td>-1.248075</td>\n",
       "      <td>-1.372399</td>\n",
       "      <td>-1.499309</td>\n",
       "      <td>-1.668938</td>\n",
       "      <td>-0.493731</td>\n",
       "      <td>-0.186806</td>\n",
       "      <td>0.033016</td>\n",
       "      <td>-0.169152</td>\n",
       "    </tr>\n",
       "    <tr>\n",
       "      <th>3</th>\n",
       "      <td>-0.091204</td>\n",
       "      <td>-0.491385</td>\n",
       "      <td>-1.248075</td>\n",
       "      <td>-1.227936</td>\n",
       "      <td>-1.499309</td>\n",
       "      <td>-1.668938</td>\n",
       "      <td>-0.493731</td>\n",
       "      <td>-0.186806</td>\n",
       "      <td>0.033016</td>\n",
       "      <td>-0.120244</td>\n",
       "    </tr>\n",
       "    <tr>\n",
       "      <th>4</th>\n",
       "      <td>0.069667</td>\n",
       "      <td>-0.517923</td>\n",
       "      <td>-1.248075</td>\n",
       "      <td>-1.083473</td>\n",
       "      <td>-1.499309</td>\n",
       "      <td>-1.668938</td>\n",
       "      <td>-0.493731</td>\n",
       "      <td>-0.186806</td>\n",
       "      <td>0.033016</td>\n",
       "      <td>-0.091210</td>\n",
       "    </tr>\n",
       "  </tbody>\n",
       "</table>\n",
       "</div>"
      ],
      "text/plain": [
       "   consumption  temperature    region  time_of_day  time_of_week  \\\n",
       "0    -0.186697    -0.677146 -1.248075    -1.661325     -1.499309   \n",
       "1    -0.169147    -0.544460 -1.248075    -1.516862     -1.499309   \n",
       "2    -0.120239    -0.438311 -1.248075    -1.372399     -1.499309   \n",
       "3    -0.091204    -0.491385 -1.248075    -1.227936     -1.499309   \n",
       "4     0.069667    -0.517923 -1.248075    -1.083473     -1.499309   \n",
       "\n",
       "   time_of_month  time_of_year  consumption_24h_lag  consumption_yday_mean  \\\n",
       "0      -1.668938     -0.493731            -0.186806               0.033016   \n",
       "1      -1.668938     -0.493731            -0.186806               0.033016   \n",
       "2      -1.668938     -0.493731            -0.186806               0.033016   \n",
       "3      -1.668938     -0.493731            -0.186806               0.033016   \n",
       "4      -1.668938     -0.493731            -0.186806               0.033016   \n",
       "\n",
       "   consumption_prev  \n",
       "0         -0.186703  \n",
       "1         -0.186703  \n",
       "2         -0.169152  \n",
       "3         -0.120244  \n",
       "4         -0.091210  "
      ]
     },
     "execution_count": 21,
     "metadata": {},
     "output_type": "execute_result"
    }
   ],
   "source": [
    "train.head()"
   ]
  },
  {
   "cell_type": "code",
   "execution_count": null,
   "metadata": {},
   "outputs": [],
   "source": []
  }
 ],
 "metadata": {
  "kernelspec": {
   "display_name": "Python 3",
   "language": "python",
   "name": "python3"
  },
  "language_info": {
   "codemirror_mode": {
    "name": "ipython",
    "version": 3
   },
   "file_extension": ".py",
   "mimetype": "text/x-python",
   "name": "python",
   "nbconvert_exporter": "python",
   "pygments_lexer": "ipython3",
   "version": "3.9.7"
  },
  "orig_nbformat": 4,
  "vscode": {
   "interpreter": {
    "hash": "81794d4967e6c3204c66dcd87b604927b115b27c00565d3d43f05ba2f3a2cb0d"
   }
  }
 },
 "nbformat": 4,
 "nbformat_minor": 2
}
