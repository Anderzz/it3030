{
 "cells": [
  {
   "cell_type": "code",
   "execution_count": 125,
   "metadata": {},
   "outputs": [],
   "source": [
    "import pandas as pd\n",
    "import numpy as np\n",
    "import matplotlib.pyplot as plt\n",
    "import seaborn as sns\n",
    "from data_reader import read_consumption_and_weather, plot_consumption, plot_consumption_and_weather"
   ]
  },
  {
   "cell_type": "code",
   "execution_count": 142,
   "metadata": {},
   "outputs": [
    {
     "name": "stdout",
     "output_type": "stream",
     "text": [
      "Holes by length and occurrences in column NO3:\n",
      "holes\n",
      "1        1\n",
      "dtype: int64\n",
      "Filling holes up to length 3\n",
      "Any remaining holes after interpolation? False\n"
     ]
    },
    {
     "data": {
      "text/html": [
       "<div>\n",
       "<style scoped>\n",
       "    .dataframe tbody tr th:only-of-type {\n",
       "        vertical-align: middle;\n",
       "    }\n",
       "\n",
       "    .dataframe tbody tr th {\n",
       "        vertical-align: top;\n",
       "    }\n",
       "\n",
       "    .dataframe thead tr th {\n",
       "        text-align: left;\n",
       "    }\n",
       "</style>\n",
       "<table border=\"1\" class=\"dataframe\">\n",
       "  <thead>\n",
       "    <tr>\n",
       "      <th>mba</th>\n",
       "      <th colspan=\"2\" halign=\"left\">NO1</th>\n",
       "      <th colspan=\"2\" halign=\"left\">NO2</th>\n",
       "      <th colspan=\"2\" halign=\"left\">NO3</th>\n",
       "      <th colspan=\"2\" halign=\"left\">NO4</th>\n",
       "      <th colspan=\"2\" halign=\"left\">NO5</th>\n",
       "    </tr>\n",
       "    <tr>\n",
       "      <th></th>\n",
       "      <th>consumption</th>\n",
       "      <th>temperature</th>\n",
       "      <th>consumption</th>\n",
       "      <th>temperature</th>\n",
       "      <th>consumption</th>\n",
       "      <th>temperature</th>\n",
       "      <th>consumption</th>\n",
       "      <th>temperature</th>\n",
       "      <th>consumption</th>\n",
       "      <th>temperature</th>\n",
       "    </tr>\n",
       "  </thead>\n",
       "  <tbody>\n",
       "    <tr>\n",
       "      <th>2017-05-01 00:00:00+00:00</th>\n",
       "      <td>3325.431995</td>\n",
       "      <td>2.2</td>\n",
       "      <td>3534.588</td>\n",
       "      <td>4.500000</td>\n",
       "      <td>2674.838</td>\n",
       "      <td>5.250000</td>\n",
       "      <td>2061.209</td>\n",
       "      <td>0.150000</td>\n",
       "      <td>1609.089</td>\n",
       "      <td>3.9</td>\n",
       "    </tr>\n",
       "    <tr>\n",
       "      <th>2017-05-01 01:00:00+00:00</th>\n",
       "      <td>3344.690998</td>\n",
       "      <td>3.2</td>\n",
       "      <td>3560.209</td>\n",
       "      <td>5.500000</td>\n",
       "      <td>2678.188</td>\n",
       "      <td>4.000000</td>\n",
       "      <td>2045.436</td>\n",
       "      <td>0.050000</td>\n",
       "      <td>1623.485</td>\n",
       "      <td>3.2</td>\n",
       "    </tr>\n",
       "    <tr>\n",
       "      <th>2017-05-01 02:00:00+00:00</th>\n",
       "      <td>3398.359002</td>\n",
       "      <td>4.0</td>\n",
       "      <td>3596.149</td>\n",
       "      <td>3.200000</td>\n",
       "      <td>2678.341</td>\n",
       "      <td>3.350000</td>\n",
       "      <td>2020.007</td>\n",
       "      <td>0.150000</td>\n",
       "      <td>1634.128</td>\n",
       "      <td>2.7</td>\n",
       "    </tr>\n",
       "    <tr>\n",
       "      <th>2017-05-01 03:00:00+00:00</th>\n",
       "      <td>3430.220001</td>\n",
       "      <td>3.6</td>\n",
       "      <td>3594.042</td>\n",
       "      <td>5.100000</td>\n",
       "      <td>2684.172</td>\n",
       "      <td>3.066667</td>\n",
       "      <td>2021.920</td>\n",
       "      <td>0.100000</td>\n",
       "      <td>1647.906</td>\n",
       "      <td>2.4</td>\n",
       "    </tr>\n",
       "    <tr>\n",
       "      <th>2017-05-01 04:00:00+00:00</th>\n",
       "      <td>3606.750000</td>\n",
       "      <td>3.4</td>\n",
       "      <td>3665.091</td>\n",
       "      <td>3.866667</td>\n",
       "      <td>2733.345</td>\n",
       "      <td>2.933333</td>\n",
       "      <td>2045.913</td>\n",
       "      <td>0.866667</td>\n",
       "      <td>1679.176</td>\n",
       "      <td>2.3</td>\n",
       "    </tr>\n",
       "  </tbody>\n",
       "</table>\n",
       "</div>"
      ],
      "text/plain": [
       "mba                                NO1                     NO2              \\\n",
       "                           consumption temperature consumption temperature   \n",
       "2017-05-01 00:00:00+00:00  3325.431995         2.2    3534.588    4.500000   \n",
       "2017-05-01 01:00:00+00:00  3344.690998         3.2    3560.209    5.500000   \n",
       "2017-05-01 02:00:00+00:00  3398.359002         4.0    3596.149    3.200000   \n",
       "2017-05-01 03:00:00+00:00  3430.220001         3.6    3594.042    5.100000   \n",
       "2017-05-01 04:00:00+00:00  3606.750000         3.4    3665.091    3.866667   \n",
       "\n",
       "mba                               NO3                     NO4              \\\n",
       "                          consumption temperature consumption temperature   \n",
       "2017-05-01 00:00:00+00:00    2674.838    5.250000    2061.209    0.150000   \n",
       "2017-05-01 01:00:00+00:00    2678.188    4.000000    2045.436    0.050000   \n",
       "2017-05-01 02:00:00+00:00    2678.341    3.350000    2020.007    0.150000   \n",
       "2017-05-01 03:00:00+00:00    2684.172    3.066667    2021.920    0.100000   \n",
       "2017-05-01 04:00:00+00:00    2733.345    2.933333    2045.913    0.866667   \n",
       "\n",
       "mba                               NO5              \n",
       "                          consumption temperature  \n",
       "2017-05-01 00:00:00+00:00    1609.089         3.9  \n",
       "2017-05-01 01:00:00+00:00    1623.485         3.2  \n",
       "2017-05-01 02:00:00+00:00    1634.128         2.7  \n",
       "2017-05-01 03:00:00+00:00    1647.906         2.4  \n",
       "2017-05-01 04:00:00+00:00    1679.176         2.3  "
      ]
     },
     "execution_count": 142,
     "metadata": {},
     "output_type": "execute_result"
    }
   ],
   "source": [
    "df = read_consumption_and_weather()[-1]\n",
    "df.head()"
   ]
  },
  {
   "cell_type": "code",
   "execution_count": 143,
   "metadata": {},
   "outputs": [
    {
     "data": {
      "text/html": [
       "<div>\n",
       "<style scoped>\n",
       "    .dataframe tbody tr th:only-of-type {\n",
       "        vertical-align: middle;\n",
       "    }\n",
       "\n",
       "    .dataframe tbody tr th {\n",
       "        vertical-align: top;\n",
       "    }\n",
       "\n",
       "    .dataframe thead tr th {\n",
       "        text-align: left;\n",
       "    }\n",
       "</style>\n",
       "<table border=\"1\" class=\"dataframe\">\n",
       "  <thead>\n",
       "    <tr>\n",
       "      <th>mba</th>\n",
       "      <th colspan=\"2\" halign=\"left\">NO1</th>\n",
       "      <th colspan=\"2\" halign=\"left\">NO2</th>\n",
       "      <th colspan=\"2\" halign=\"left\">NO3</th>\n",
       "      <th colspan=\"2\" halign=\"left\">NO4</th>\n",
       "      <th colspan=\"2\" halign=\"left\">NO5</th>\n",
       "    </tr>\n",
       "    <tr>\n",
       "      <th></th>\n",
       "      <th>consumption</th>\n",
       "      <th>temperature</th>\n",
       "      <th>consumption</th>\n",
       "      <th>temperature</th>\n",
       "      <th>consumption</th>\n",
       "      <th>temperature</th>\n",
       "      <th>consumption</th>\n",
       "      <th>temperature</th>\n",
       "      <th>consumption</th>\n",
       "      <th>temperature</th>\n",
       "    </tr>\n",
       "  </thead>\n",
       "  <tbody>\n",
       "    <tr>\n",
       "      <th>count</th>\n",
       "      <td>50208.000000</td>\n",
       "      <td>50208.000000</td>\n",
       "      <td>50208.000000</td>\n",
       "      <td>50208.000000</td>\n",
       "      <td>50208.000000</td>\n",
       "      <td>50208.000000</td>\n",
       "      <td>50208.000000</td>\n",
       "      <td>50208.000000</td>\n",
       "      <td>50208.000000</td>\n",
       "      <td>50208.000000</td>\n",
       "    </tr>\n",
       "    <tr>\n",
       "      <th>mean</th>\n",
       "      <td>3988.938389</td>\n",
       "      <td>7.929658</td>\n",
       "      <td>4169.734910</td>\n",
       "      <td>9.065414</td>\n",
       "      <td>3097.480634</td>\n",
       "      <td>6.796776</td>\n",
       "      <td>2178.804315</td>\n",
       "      <td>3.763234</td>\n",
       "      <td>1900.884893</td>\n",
       "      <td>9.053217</td>\n",
       "    </tr>\n",
       "    <tr>\n",
       "      <th>std</th>\n",
       "      <td>1311.064087</td>\n",
       "      <td>8.318640</td>\n",
       "      <td>713.038281</td>\n",
       "      <td>5.940013</td>\n",
       "      <td>479.545701</td>\n",
       "      <td>7.819803</td>\n",
       "      <td>361.654375</td>\n",
       "      <td>6.652893</td>\n",
       "      <td>306.193275</td>\n",
       "      <td>6.173632</td>\n",
       "    </tr>\n",
       "    <tr>\n",
       "      <th>min</th>\n",
       "      <td>1690.051994</td>\n",
       "      <td>-15.400000</td>\n",
       "      <td>2660.890000</td>\n",
       "      <td>-15.466667</td>\n",
       "      <td>1992.632558</td>\n",
       "      <td>-22.000000</td>\n",
       "      <td>1364.340713</td>\n",
       "      <td>-16.100000</td>\n",
       "      <td>989.346588</td>\n",
       "      <td>-11.500000</td>\n",
       "    </tr>\n",
       "    <tr>\n",
       "      <th>25%</th>\n",
       "      <td>2914.051405</td>\n",
       "      <td>1.433333</td>\n",
       "      <td>3596.381608</td>\n",
       "      <td>5.033333</td>\n",
       "      <td>2702.097259</td>\n",
       "      <td>1.733333</td>\n",
       "      <td>1867.779176</td>\n",
       "      <td>-1.000000</td>\n",
       "      <td>1664.985942</td>\n",
       "      <td>4.500000</td>\n",
       "    </tr>\n",
       "    <tr>\n",
       "      <th>50%</th>\n",
       "      <td>3757.956266</td>\n",
       "      <td>7.800000</td>\n",
       "      <td>4062.967501</td>\n",
       "      <td>9.100000</td>\n",
       "      <td>3067.526689</td>\n",
       "      <td>6.900000</td>\n",
       "      <td>2164.897660</td>\n",
       "      <td>3.800000</td>\n",
       "      <td>1887.130584</td>\n",
       "      <td>8.900000</td>\n",
       "    </tr>\n",
       "    <tr>\n",
       "      <th>75%</th>\n",
       "      <td>4987.063169</td>\n",
       "      <td>14.400000</td>\n",
       "      <td>4699.310916</td>\n",
       "      <td>13.266667</td>\n",
       "      <td>3468.904199</td>\n",
       "      <td>12.200000</td>\n",
       "      <td>2474.167626</td>\n",
       "      <td>8.933333</td>\n",
       "      <td>2121.754746</td>\n",
       "      <td>13.325000</td>\n",
       "    </tr>\n",
       "    <tr>\n",
       "      <th>max</th>\n",
       "      <td>7928.670995</td>\n",
       "      <td>34.400000</td>\n",
       "      <td>6840.053130</td>\n",
       "      <td>32.000000</td>\n",
       "      <td>4756.004039</td>\n",
       "      <td>33.933333</td>\n",
       "      <td>3097.133000</td>\n",
       "      <td>30.033333</td>\n",
       "      <td>2947.614289</td>\n",
       "      <td>32.300000</td>\n",
       "    </tr>\n",
       "  </tbody>\n",
       "</table>\n",
       "</div>"
      ],
      "text/plain": [
       "mba             NO1                         NO2                         NO3  \\\n",
       "        consumption   temperature   consumption   temperature   consumption   \n",
       "count  50208.000000  50208.000000  50208.000000  50208.000000  50208.000000   \n",
       "mean    3988.938389      7.929658   4169.734910      9.065414   3097.480634   \n",
       "std     1311.064087      8.318640    713.038281      5.940013    479.545701   \n",
       "min     1690.051994    -15.400000   2660.890000    -15.466667   1992.632558   \n",
       "25%     2914.051405      1.433333   3596.381608      5.033333   2702.097259   \n",
       "50%     3757.956266      7.800000   4062.967501      9.100000   3067.526689   \n",
       "75%     4987.063169     14.400000   4699.310916     13.266667   3468.904199   \n",
       "max     7928.670995     34.400000   6840.053130     32.000000   4756.004039   \n",
       "\n",
       "mba                           NO4                         NO5                \n",
       "        temperature   consumption   temperature   consumption   temperature  \n",
       "count  50208.000000  50208.000000  50208.000000  50208.000000  50208.000000  \n",
       "mean       6.796776   2178.804315      3.763234   1900.884893      9.053217  \n",
       "std        7.819803    361.654375      6.652893    306.193275      6.173632  \n",
       "min      -22.000000   1364.340713    -16.100000    989.346588    -11.500000  \n",
       "25%        1.733333   1867.779176     -1.000000   1664.985942      4.500000  \n",
       "50%        6.900000   2164.897660      3.800000   1887.130584      8.900000  \n",
       "75%       12.200000   2474.167626      8.933333   2121.754746     13.325000  \n",
       "max       33.933333   3097.133000     30.033333   2947.614289     32.300000  "
      ]
     },
     "execution_count": 143,
     "metadata": {},
     "output_type": "execute_result"
    }
   ],
   "source": [
    "df.describe()"
   ]
  },
  {
   "cell_type": "code",
   "execution_count": 153,
   "metadata": {},
   "outputs": [
    {
     "data": {
      "text/plain": [
       "<AxesSubplot:xlabel='consumption', ylabel='Density'>"
      ]
     },
     "execution_count": 153,
     "metadata": {},
     "output_type": "execute_result"
    },
    {
     "data": {
      "image/png": "[encoded data removed]",
      "text/plain": [
       "<Figure size 432x288 with 1 Axes>"
      ]
     },
     "metadata": {
      "needs_background": "light"
     },
     "output_type": "display_data"
    }
   ],
   "source": [
    "# violinplot the 5 different mba's\n",
    "sns.kdeplot(data=df['NO1']['consumption'])"
   ]
  },
  {
   "cell_type": "code",
   "execution_count": 155,
   "metadata": {},
   "outputs": [
    {
     "data": {
      "text/plain": [
       "<AxesSubplot:xlabel='temperature', ylabel='Density'>"
      ]
     },
     "execution_count": 155,
     "metadata": {},
     "output_type": "execute_result"
    },
    {
     "data": {
      "image/png": "[encoded data removed]",
      "text/plain": [
       "<Figure size 432x288 with 1 Axes>"
      ]
     },
     "metadata": {
      "needs_background": "light"
     },
     "output_type": "display_data"
    }
   ],
   "source": [
    "sns.kdeplot(data=df['NO1']['temperature'])"
   ]
  },
  {
   "cell_type": "code",
   "execution_count": null,
   "metadata": {},
   "outputs": [],
   "source": []
  }
 ],
 "metadata": {
  "kernelspec": {
   "display_name": "Python 3",
   "language": "python",
   "name": "python3"
  },
  "language_info": {
   "codemirror_mode": {
    "name": "ipython",
    "version": 3
   },
   "file_extension": ".py",
   "mimetype": "text/x-python",
   "name": "python",
   "nbconvert_exporter": "python",
   "pygments_lexer": "ipython3",
   "version": "3.9.7"
  },
  "orig_nbformat": 4,
  "vscode": {
   "interpreter": {
    "hash": "81794d4967e6c3204c66dcd87b604927b115b27c00565d3d43f05ba2f3a2cb0d"
   }
  }
 },
 "nbformat": 4,
 "nbformat_minor": 2
}
